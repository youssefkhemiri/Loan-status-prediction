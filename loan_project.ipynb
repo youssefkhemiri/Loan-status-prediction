{
  "cells": [
    {
      "cell_type": "markdown",
      "metadata": {
        "id": "view-in-github",
        "colab_type": "text"
      },
      "source": [
        "<a href=\"https://colab.research.google.com/github/youssefkhemiri/Loan-status-prediction/blob/main/loan_project.ipynb\" target=\"_parent\"><img src=\"https://colab.research.google.com/assets/colab-badge.svg\" alt=\"Open In Colab\"/></a>"
      ]
    },
    {
      "cell_type": "markdown",
      "id": "2454ed2c",
      "metadata": {
        "papermill": {
          "duration": 0.046267,
          "end_time": "2022-02-25T13:04:40.335395",
          "exception": false,
          "start_time": "2022-02-25T13:04:40.289128",
          "status": "completed"
        },
        "tags": [],
        "id": "2454ed2c"
      },
      "source": [
        "# Introduction"
      ]
    },
    {
      "cell_type": "markdown",
      "id": "9e613402",
      "metadata": {
        "papermill": {
          "duration": 0.04148,
          "end_time": "2022-02-25T13:04:40.420899",
          "exception": false,
          "start_time": "2022-02-25T13:04:40.379419",
          "status": "completed"
        },
        "tags": [],
        "id": "9e613402"
      },
      "source": [
        "### This is a loan prediction project.Using a set of variables, I will predict which of the banks customers are more likely to have their loan application approved. This is a classification problem in Machine Learning, and banks can use these models to assess their customers for loan qualification and fitness. "
      ]
    },
    {
      "cell_type": "markdown",
      "id": "b0936925",
      "metadata": {
        "papermill": {
          "duration": 0.041173,
          "end_time": "2022-02-25T13:04:40.506506",
          "exception": false,
          "start_time": "2022-02-25T13:04:40.465333",
          "status": "completed"
        },
        "tags": [],
        "id": "b0936925"
      },
      "source": [
        "# Import Relevant Modules"
      ]
    },
    {
      "cell_type": "code",
      "execution_count": null,
      "id": "7e30b392",
      "metadata": {
        "execution": {
          "iopub.execute_input": "2022-02-25T13:04:40.634417Z",
          "iopub.status.busy": "2022-02-25T13:04:40.626833Z",
          "iopub.status.idle": "2022-02-25T13:04:42.059286Z",
          "shell.execute_reply": "2022-02-25T13:04:42.060052Z",
          "shell.execute_reply.started": "2022-02-25T13:02:50.804423Z"
        },
        "papermill": {
          "duration": 1.49667,
          "end_time": "2022-02-25T13:04:42.060383",
          "exception": false,
          "start_time": "2022-02-25T13:04:40.563713",
          "status": "completed"
        },
        "tags": [],
        "id": "7e30b392"
      },
      "outputs": [],
      "source": [
        "# Data analysis and visualization\n",
        "import pandas as pd\n",
        "import numpy as np\n",
        "import matplotlib.pyplot as plt\n",
        "\n",
        "# classifier\n",
        "from sklearn.tree import DecisionTreeClassifier\n",
        "from sklearn.ensemble import RandomForestClassifier\n",
        "\n",
        "# metrics\n",
        "from sklearn.preprocessing import LabelEncoder\n",
        "from sklearn.model_selection import train_test_split\n",
        "from sklearn.metrics import confusion_matrix\n",
        "from sklearn.metrics import classification_report\n",
        "from sklearn.metrics import accuracy_score"
      ]
    },
    {
      "cell_type": "markdown",
      "id": "51b402fd",
      "metadata": {
        "papermill": {
          "duration": 0.042039,
          "end_time": "2022-02-25T13:04:42.147736",
          "exception": false,
          "start_time": "2022-02-25T13:04:42.105697",
          "status": "completed"
        },
        "tags": [],
        "id": "51b402fd"
      },
      "source": [
        "# Data Preview"
      ]
    },
    {
      "cell_type": "code",
      "execution_count": null,
      "id": "fb76c905",
      "metadata": {
        "execution": {
          "iopub.execute_input": "2022-02-25T13:04:42.236793Z",
          "iopub.status.busy": "2022-02-25T13:04:42.236141Z",
          "iopub.status.idle": "2022-02-25T13:04:42.270701Z",
          "shell.execute_reply": "2022-02-25T13:04:42.269948Z",
          "shell.execute_reply.started": "2022-02-25T13:02:52.198231Z"
        },
        "papermill": {
          "duration": 0.080471,
          "end_time": "2022-02-25T13:04:42.270866",
          "exception": false,
          "start_time": "2022-02-25T13:04:42.190395",
          "status": "completed"
        },
        "tags": [],
        "id": "fb76c905"
      },
      "outputs": [],
      "source": [
        "#load training and testing data\n",
        "\n",
        "file_train ='./train_loan.csv' \n",
        "file_test = './test_loan.csv'\n",
        "loan_train = pd.read_csv(file_train, sep=',')\n",
        "loan_test = pd.read_csv(file_test, sep=',')"
      ]
    },
    {
      "cell_type": "code",
      "execution_count": null,
      "id": "6b07d10e",
      "metadata": {
        "execution": {
          "iopub.execute_input": "2022-02-25T13:04:42.369716Z",
          "iopub.status.busy": "2022-02-25T13:04:42.368988Z",
          "iopub.status.idle": "2022-02-25T13:04:42.390093Z",
          "shell.execute_reply": "2022-02-25T13:04:42.390674Z",
          "shell.execute_reply.started": "2022-02-25T13:02:52.243207Z"
        },
        "papermill": {
          "duration": 0.074653,
          "end_time": "2022-02-25T13:04:42.390858",
          "exception": false,
          "start_time": "2022-02-25T13:04:42.316205",
          "status": "completed"
        },
        "tags": [],
        "colab": {
          "base_uri": "https://localhost:8080/"
        },
        "id": "6b07d10e",
        "outputId": "b3cea61e-67c3-4946-c20d-9978c93f0f81"
      },
      "outputs": [
        {
          "output_type": "execute_result",
          "data": {
            "text/plain": [
              "    Loan_ID Gender Married Dependents     Education Self_Employed  \\\n",
              "0  LP001002   Male      No          0      Graduate            No   \n",
              "1  LP001003   Male     Yes          1      Graduate            No   \n",
              "2  LP001005   Male     Yes          0      Graduate           Yes   \n",
              "3  LP001006   Male     Yes          0  Not Graduate            No   \n",
              "4  LP001008   Male      No          0      Graduate            No   \n",
              "\n",
              "   ApplicantIncome  CoapplicantIncome  LoanAmount  Loan_Amount_Term  \\\n",
              "0             5849                0.0         NaN             360.0   \n",
              "1             4583             1508.0       128.0             360.0   \n",
              "2             3000                0.0        66.0             360.0   \n",
              "3             2583             2358.0       120.0             360.0   \n",
              "4             6000                0.0       141.0             360.0   \n",
              "\n",
              "   Credit_History Property_Area Loan_Status  \n",
              "0             1.0         Urban           Y  \n",
              "1             1.0         Rural           N  \n",
              "2             1.0         Urban           Y  \n",
              "3             1.0         Urban           Y  \n",
              "4             1.0         Urban           Y  "
            ],
            "text/html": [
              "\n",
              "  <div id=\"df-e4aa969b-a086-433a-97ce-f50207b76e9f\">\n",
              "    <div class=\"colab-df-container\">\n",
              "      <div>\n",
              "<style scoped>\n",
              "    .dataframe tbody tr th:only-of-type {\n",
              "        vertical-align: middle;\n",
              "    }\n",
              "\n",
              "    .dataframe tbody tr th {\n",
              "        vertical-align: top;\n",
              "    }\n",
              "\n",
              "    .dataframe thead th {\n",
              "        text-align: right;\n",
              "    }\n",
              "</style>\n",
              "<table border=\"1\" class=\"dataframe\">\n",
              "  <thead>\n",
              "    <tr style=\"text-align: right;\">\n",
              "      <th></th>\n",
              "      <th>Loan_ID</th>\n",
              "      <th>Gender</th>\n",
              "      <th>Married</th>\n",
              "      <th>Dependents</th>\n",
              "      <th>Education</th>\n",
              "      <th>Self_Employed</th>\n",
              "      <th>ApplicantIncome</th>\n",
              "      <th>CoapplicantIncome</th>\n",
              "      <th>LoanAmount</th>\n",
              "      <th>Loan_Amount_Term</th>\n",
              "      <th>Credit_History</th>\n",
              "      <th>Property_Area</th>\n",
              "      <th>Loan_Status</th>\n",
              "    </tr>\n",
              "  </thead>\n",
              "  <tbody>\n",
              "    <tr>\n",
              "      <th>0</th>\n",
              "      <td>LP001002</td>\n",
              "      <td>Male</td>\n",
              "      <td>No</td>\n",
              "      <td>0</td>\n",
              "      <td>Graduate</td>\n",
              "      <td>No</td>\n",
              "      <td>5849</td>\n",
              "      <td>0.0</td>\n",
              "      <td>NaN</td>\n",
              "      <td>360.0</td>\n",
              "      <td>1.0</td>\n",
              "      <td>Urban</td>\n",
              "      <td>Y</td>\n",
              "    </tr>\n",
              "    <tr>\n",
              "      <th>1</th>\n",
              "      <td>LP001003</td>\n",
              "      <td>Male</td>\n",
              "      <td>Yes</td>\n",
              "      <td>1</td>\n",
              "      <td>Graduate</td>\n",
              "      <td>No</td>\n",
              "      <td>4583</td>\n",
              "      <td>1508.0</td>\n",
              "      <td>128.0</td>\n",
              "      <td>360.0</td>\n",
              "      <td>1.0</td>\n",
              "      <td>Rural</td>\n",
              "      <td>N</td>\n",
              "    </tr>\n",
              "    <tr>\n",
              "      <th>2</th>\n",
              "      <td>LP001005</td>\n",
              "      <td>Male</td>\n",
              "      <td>Yes</td>\n",
              "      <td>0</td>\n",
              "      <td>Graduate</td>\n",
              "      <td>Yes</td>\n",
              "      <td>3000</td>\n",
              "      <td>0.0</td>\n",
              "      <td>66.0</td>\n",
              "      <td>360.0</td>\n",
              "      <td>1.0</td>\n",
              "      <td>Urban</td>\n",
              "      <td>Y</td>\n",
              "    </tr>\n",
              "    <tr>\n",
              "      <th>3</th>\n",
              "      <td>LP001006</td>\n",
              "      <td>Male</td>\n",
              "      <td>Yes</td>\n",
              "      <td>0</td>\n",
              "      <td>Not Graduate</td>\n",
              "      <td>No</td>\n",
              "      <td>2583</td>\n",
              "      <td>2358.0</td>\n",
              "      <td>120.0</td>\n",
              "      <td>360.0</td>\n",
              "      <td>1.0</td>\n",
              "      <td>Urban</td>\n",
              "      <td>Y</td>\n",
              "    </tr>\n",
              "    <tr>\n",
              "      <th>4</th>\n",
              "      <td>LP001008</td>\n",
              "      <td>Male</td>\n",
              "      <td>No</td>\n",
              "      <td>0</td>\n",
              "      <td>Graduate</td>\n",
              "      <td>No</td>\n",
              "      <td>6000</td>\n",
              "      <td>0.0</td>\n",
              "      <td>141.0</td>\n",
              "      <td>360.0</td>\n",
              "      <td>1.0</td>\n",
              "      <td>Urban</td>\n",
              "      <td>Y</td>\n",
              "    </tr>\n",
              "  </tbody>\n",
              "</table>\n",
              "</div>\n",
              "      <button class=\"colab-df-convert\" onclick=\"convertToInteractive('df-e4aa969b-a086-433a-97ce-f50207b76e9f')\"\n",
              "              title=\"Convert this dataframe to an interactive table.\"\n",
              "              style=\"display:none;\">\n",
              "        \n",
              "  <svg xmlns=\"http://www.w3.org/2000/svg\" height=\"24px\"viewBox=\"0 0 24 24\"\n",
              "       width=\"24px\">\n",
              "    <path d=\"M0 0h24v24H0V0z\" fill=\"none\"/>\n",
              "    <path d=\"M18.56 5.44l.94 2.06.94-2.06 2.06-.94-2.06-.94-.94-2.06-.94 2.06-2.06.94zm-11 1L8.5 8.5l.94-2.06 2.06-.94-2.06-.94L8.5 2.5l-.94 2.06-2.06.94zm10 10l.94 2.06.94-2.06 2.06-.94-2.06-.94-.94-2.06-.94 2.06-2.06.94z\"/><path d=\"M17.41 7.96l-1.37-1.37c-.4-.4-.92-.59-1.43-.59-.52 0-1.04.2-1.43.59L10.3 9.45l-7.72 7.72c-.78.78-.78 2.05 0 2.83L4 21.41c.39.39.9.59 1.41.59.51 0 1.02-.2 1.41-.59l7.78-7.78 2.81-2.81c.8-.78.8-2.07 0-2.86zM5.41 20L4 18.59l7.72-7.72 1.47 1.35L5.41 20z\"/>\n",
              "  </svg>\n",
              "      </button>\n",
              "      \n",
              "  <style>\n",
              "    .colab-df-container {\n",
              "      display:flex;\n",
              "      flex-wrap:wrap;\n",
              "      gap: 12px;\n",
              "    }\n",
              "\n",
              "    .colab-df-convert {\n",
              "      background-color: #E8F0FE;\n",
              "      border: none;\n",
              "      border-radius: 50%;\n",
              "      cursor: pointer;\n",
              "      display: none;\n",
              "      fill: #1967D2;\n",
              "      height: 32px;\n",
              "      padding: 0 0 0 0;\n",
              "      width: 32px;\n",
              "    }\n",
              "\n",
              "    .colab-df-convert:hover {\n",
              "      background-color: #E2EBFA;\n",
              "      box-shadow: 0px 1px 2px rgba(60, 64, 67, 0.3), 0px 1px 3px 1px rgba(60, 64, 67, 0.15);\n",
              "      fill: #174EA6;\n",
              "    }\n",
              "\n",
              "    [theme=dark] .colab-df-convert {\n",
              "      background-color: #3B4455;\n",
              "      fill: #D2E3FC;\n",
              "    }\n",
              "\n",
              "    [theme=dark] .colab-df-convert:hover {\n",
              "      background-color: #434B5C;\n",
              "      box-shadow: 0px 1px 3px 1px rgba(0, 0, 0, 0.15);\n",
              "      filter: drop-shadow(0px 1px 2px rgba(0, 0, 0, 0.3));\n",
              "      fill: #FFFFFF;\n",
              "    }\n",
              "  </style>\n",
              "\n",
              "      <script>\n",
              "        const buttonEl =\n",
              "          document.querySelector('#df-e4aa969b-a086-433a-97ce-f50207b76e9f button.colab-df-convert');\n",
              "        buttonEl.style.display =\n",
              "          google.colab.kernel.accessAllowed ? 'block' : 'none';\n",
              "\n",
              "        async function convertToInteractive(key) {\n",
              "          const element = document.querySelector('#df-e4aa969b-a086-433a-97ce-f50207b76e9f');\n",
              "          const dataTable =\n",
              "            await google.colab.kernel.invokeFunction('convertToInteractive',\n",
              "                                                     [key], {});\n",
              "          if (!dataTable) return;\n",
              "\n",
              "          const docLinkHtml = 'Like what you see? Visit the ' +\n",
              "            '<a target=\"_blank\" href=https://colab.research.google.com/notebooks/data_table.ipynb>data table notebook</a>'\n",
              "            + ' to learn more about interactive tables.';\n",
              "          element.innerHTML = '';\n",
              "          dataTable['output_type'] = 'display_data';\n",
              "          await google.colab.output.renderOutput(dataTable, element);\n",
              "          const docLink = document.createElement('div');\n",
              "          docLink.innerHTML = docLinkHtml;\n",
              "          element.appendChild(docLink);\n",
              "        }\n",
              "      </script>\n",
              "    </div>\n",
              "  </div>\n",
              "  "
            ]
          },
          "metadata": {},
          "execution_count": 3
        }
      ],
      "source": [
        "# preview data\n",
        "loan_train.head()"
      ]
    },
    {
      "cell_type": "code",
      "execution_count": null,
      "id": "2f7d030b",
      "metadata": {
        "execution": {
          "iopub.execute_input": "2022-02-25T13:04:42.486809Z",
          "iopub.status.busy": "2022-02-25T13:04:42.486145Z",
          "iopub.status.idle": "2022-02-25T13:04:42.490063Z",
          "shell.execute_reply": "2022-02-25T13:04:42.490624Z",
          "shell.execute_reply.started": "2022-02-25T13:02:52.280502Z"
        },
        "papermill": {
          "duration": 0.05457,
          "end_time": "2022-02-25T13:04:42.490829",
          "exception": false,
          "start_time": "2022-02-25T13:04:42.436259",
          "status": "completed"
        },
        "tags": [],
        "id": "2f7d030b"
      },
      "outputs": [],
      "source": [
        "# Copy the data, I will use the copy to create some visualization of categorical data using a loop\n",
        "# This is a fix, because I dealt with the missing data earlier\n",
        "\n",
        "loan_train_cc = loan_train.copy()"
      ]
    },
    {
      "cell_type": "code",
      "execution_count": null,
      "id": "c96f3bdb",
      "metadata": {
        "execution": {
          "iopub.execute_input": "2022-02-25T13:04:42.587660Z",
          "iopub.status.busy": "2022-02-25T13:04:42.584699Z",
          "iopub.status.idle": "2022-02-25T13:04:42.590888Z",
          "shell.execute_reply": "2022-02-25T13:04:42.591333Z",
          "shell.execute_reply.started": "2022-02-25T13:02:52.291364Z"
        },
        "papermill": {
          "duration": 0.05513,
          "end_time": "2022-02-25T13:04:42.591554",
          "exception": false,
          "start_time": "2022-02-25T13:04:42.536424",
          "status": "completed"
        },
        "tags": [],
        "colab": {
          "base_uri": "https://localhost:8080/"
        },
        "id": "c96f3bdb",
        "outputId": "76a1d6b3-c9d1-4402-a0bc-a09d0622142c"
      },
      "outputs": [
        {
          "output_type": "execute_result",
          "data": {
            "text/plain": [
              "Index(['Loan_ID', 'Gender', 'Married', 'Dependents', 'Education',\n",
              "       'Self_Employed', 'ApplicantIncome', 'CoapplicantIncome', 'LoanAmount',\n",
              "       'Loan_Amount_Term', 'Credit_History', 'Property_Area', 'Loan_Status'],\n",
              "      dtype='object')"
            ]
          },
          "metadata": {},
          "execution_count": 5
        }
      ],
      "source": [
        "loan_train.columns"
      ]
    },
    {
      "cell_type": "code",
      "execution_count": null,
      "id": "9a3ae0de",
      "metadata": {
        "execution": {
          "iopub.execute_input": "2022-02-25T13:04:42.691779Z",
          "iopub.status.busy": "2022-02-25T13:04:42.690998Z",
          "iopub.status.idle": "2022-02-25T13:04:42.696192Z",
          "shell.execute_reply": "2022-02-25T13:04:42.696814Z",
          "shell.execute_reply.started": "2022-02-25T13:02:52.306047Z"
        },
        "papermill": {
          "duration": 0.05844,
          "end_time": "2022-02-25T13:04:42.696988",
          "exception": false,
          "start_time": "2022-02-25T13:04:42.638548",
          "status": "completed"
        },
        "tags": [],
        "colab": {
          "base_uri": "https://localhost:8080/"
        },
        "id": "9a3ae0de",
        "outputId": "7d8b31b6-6e5b-4966-8d06-3c3f1560668b"
      },
      "outputs": [
        {
          "output_type": "execute_result",
          "data": {
            "text/plain": [
              "Index(['Loan_ID', 'Gender', 'Married', 'Dependents', 'Education',\n",
              "       'Self_Employed', 'ApplicantIncome', 'CoapplicantIncome', 'LoanAmount',\n",
              "       'Loan_Amount_Term', 'Credit_History', 'Property_Area'],\n",
              "      dtype='object')"
            ]
          },
          "metadata": {},
          "execution_count": 6
        }
      ],
      "source": [
        "loan_test.columns"
      ]
    },
    {
      "cell_type": "code",
      "execution_count": null,
      "id": "8c96cb09",
      "metadata": {
        "execution": {
          "iopub.execute_input": "2022-02-25T13:04:42.787320Z",
          "iopub.status.busy": "2022-02-25T13:04:42.786364Z",
          "iopub.status.idle": "2022-02-25T13:04:42.794134Z",
          "shell.execute_reply": "2022-02-25T13:04:42.794729Z",
          "shell.execute_reply.started": "2022-02-25T13:02:52.320009Z"
        },
        "papermill": {
          "duration": 0.055159,
          "end_time": "2022-02-25T13:04:42.794925",
          "exception": false,
          "start_time": "2022-02-25T13:04:42.739766",
          "status": "completed"
        },
        "tags": [],
        "colab": {
          "base_uri": "https://localhost:8080/"
        },
        "id": "8c96cb09",
        "outputId": "513086a7-66d8-4c98-97fc-d197e825d769"
      },
      "outputs": [
        {
          "output_type": "execute_result",
          "data": {
            "text/plain": [
              "Loan_ID               object\n",
              "Gender                object\n",
              "Married               object\n",
              "Dependents            object\n",
              "Education             object\n",
              "Self_Employed         object\n",
              "ApplicantIncome        int64\n",
              "CoapplicantIncome    float64\n",
              "LoanAmount           float64\n",
              "Loan_Amount_Term     float64\n",
              "Credit_History       float64\n",
              "Property_Area         object\n",
              "Loan_Status           object\n",
              "dtype: object"
            ]
          },
          "metadata": {},
          "execution_count": 7
        }
      ],
      "source": [
        "loan_train.dtypes"
      ]
    },
    {
      "cell_type": "code",
      "execution_count": null,
      "id": "2a8d6fc7",
      "metadata": {
        "execution": {
          "iopub.execute_input": "2022-02-25T13:04:42.889396Z",
          "iopub.status.busy": "2022-02-25T13:04:42.888518Z",
          "iopub.status.idle": "2022-02-25T13:04:42.925689Z",
          "shell.execute_reply": "2022-02-25T13:04:42.925169Z",
          "shell.execute_reply.started": "2022-02-25T13:02:52.332232Z"
        },
        "papermill": {
          "duration": 0.084807,
          "end_time": "2022-02-25T13:04:42.925842",
          "exception": false,
          "start_time": "2022-02-25T13:04:42.841035",
          "status": "completed"
        },
        "tags": [],
        "colab": {
          "base_uri": "https://localhost:8080/"
        },
        "id": "2a8d6fc7",
        "outputId": "d20f1192-5e78-4d5d-ee18-2e0bf5c91fcb"
      },
      "outputs": [
        {
          "output_type": "execute_result",
          "data": {
            "text/plain": [
              "       ApplicantIncome  CoapplicantIncome  LoanAmount  Loan_Amount_Term  \\\n",
              "count       614.000000         614.000000  592.000000         600.00000   \n",
              "mean       5403.459283        1621.245798  146.412162         342.00000   \n",
              "std        6109.041673        2926.248369   85.587325          65.12041   \n",
              "min         150.000000           0.000000    9.000000          12.00000   \n",
              "25%        2877.500000           0.000000  100.000000         360.00000   \n",
              "50%        3812.500000        1188.500000  128.000000         360.00000   \n",
              "75%        5795.000000        2297.250000  168.000000         360.00000   \n",
              "max       81000.000000       41667.000000  700.000000         480.00000   \n",
              "\n",
              "       Credit_History  \n",
              "count      564.000000  \n",
              "mean         0.842199  \n",
              "std          0.364878  \n",
              "min          0.000000  \n",
              "25%          1.000000  \n",
              "50%          1.000000  \n",
              "75%          1.000000  \n",
              "max          1.000000  "
            ],
            "text/html": [
              "\n",
              "  <div id=\"df-1562aeef-6e66-4458-935c-a232cf07c5c9\">\n",
              "    <div class=\"colab-df-container\">\n",
              "      <div>\n",
              "<style scoped>\n",
              "    .dataframe tbody tr th:only-of-type {\n",
              "        vertical-align: middle;\n",
              "    }\n",
              "\n",
              "    .dataframe tbody tr th {\n",
              "        vertical-align: top;\n",
              "    }\n",
              "\n",
              "    .dataframe thead th {\n",
              "        text-align: right;\n",
              "    }\n",
              "</style>\n",
              "<table border=\"1\" class=\"dataframe\">\n",
              "  <thead>\n",
              "    <tr style=\"text-align: right;\">\n",
              "      <th></th>\n",
              "      <th>ApplicantIncome</th>\n",
              "      <th>CoapplicantIncome</th>\n",
              "      <th>LoanAmount</th>\n",
              "      <th>Loan_Amount_Term</th>\n",
              "      <th>Credit_History</th>\n",
              "    </tr>\n",
              "  </thead>\n",
              "  <tbody>\n",
              "    <tr>\n",
              "      <th>count</th>\n",
              "      <td>614.000000</td>\n",
              "      <td>614.000000</td>\n",
              "      <td>592.000000</td>\n",
              "      <td>600.00000</td>\n",
              "      <td>564.000000</td>\n",
              "    </tr>\n",
              "    <tr>\n",
              "      <th>mean</th>\n",
              "      <td>5403.459283</td>\n",
              "      <td>1621.245798</td>\n",
              "      <td>146.412162</td>\n",
              "      <td>342.00000</td>\n",
              "      <td>0.842199</td>\n",
              "    </tr>\n",
              "    <tr>\n",
              "      <th>std</th>\n",
              "      <td>6109.041673</td>\n",
              "      <td>2926.248369</td>\n",
              "      <td>85.587325</td>\n",
              "      <td>65.12041</td>\n",
              "      <td>0.364878</td>\n",
              "    </tr>\n",
              "    <tr>\n",
              "      <th>min</th>\n",
              "      <td>150.000000</td>\n",
              "      <td>0.000000</td>\n",
              "      <td>9.000000</td>\n",
              "      <td>12.00000</td>\n",
              "      <td>0.000000</td>\n",
              "    </tr>\n",
              "    <tr>\n",
              "      <th>25%</th>\n",
              "      <td>2877.500000</td>\n",
              "      <td>0.000000</td>\n",
              "      <td>100.000000</td>\n",
              "      <td>360.00000</td>\n",
              "      <td>1.000000</td>\n",
              "    </tr>\n",
              "    <tr>\n",
              "      <th>50%</th>\n",
              "      <td>3812.500000</td>\n",
              "      <td>1188.500000</td>\n",
              "      <td>128.000000</td>\n",
              "      <td>360.00000</td>\n",
              "      <td>1.000000</td>\n",
              "    </tr>\n",
              "    <tr>\n",
              "      <th>75%</th>\n",
              "      <td>5795.000000</td>\n",
              "      <td>2297.250000</td>\n",
              "      <td>168.000000</td>\n",
              "      <td>360.00000</td>\n",
              "      <td>1.000000</td>\n",
              "    </tr>\n",
              "    <tr>\n",
              "      <th>max</th>\n",
              "      <td>81000.000000</td>\n",
              "      <td>41667.000000</td>\n",
              "      <td>700.000000</td>\n",
              "      <td>480.00000</td>\n",
              "      <td>1.000000</td>\n",
              "    </tr>\n",
              "  </tbody>\n",
              "</table>\n",
              "</div>\n",
              "      <button class=\"colab-df-convert\" onclick=\"convertToInteractive('df-1562aeef-6e66-4458-935c-a232cf07c5c9')\"\n",
              "              title=\"Convert this dataframe to an interactive table.\"\n",
              "              style=\"display:none;\">\n",
              "        \n",
              "  <svg xmlns=\"http://www.w3.org/2000/svg\" height=\"24px\"viewBox=\"0 0 24 24\"\n",
              "       width=\"24px\">\n",
              "    <path d=\"M0 0h24v24H0V0z\" fill=\"none\"/>\n",
              "    <path d=\"M18.56 5.44l.94 2.06.94-2.06 2.06-.94-2.06-.94-.94-2.06-.94 2.06-2.06.94zm-11 1L8.5 8.5l.94-2.06 2.06-.94-2.06-.94L8.5 2.5l-.94 2.06-2.06.94zm10 10l.94 2.06.94-2.06 2.06-.94-2.06-.94-.94-2.06-.94 2.06-2.06.94z\"/><path d=\"M17.41 7.96l-1.37-1.37c-.4-.4-.92-.59-1.43-.59-.52 0-1.04.2-1.43.59L10.3 9.45l-7.72 7.72c-.78.78-.78 2.05 0 2.83L4 21.41c.39.39.9.59 1.41.59.51 0 1.02-.2 1.41-.59l7.78-7.78 2.81-2.81c.8-.78.8-2.07 0-2.86zM5.41 20L4 18.59l7.72-7.72 1.47 1.35L5.41 20z\"/>\n",
              "  </svg>\n",
              "      </button>\n",
              "      \n",
              "  <style>\n",
              "    .colab-df-container {\n",
              "      display:flex;\n",
              "      flex-wrap:wrap;\n",
              "      gap: 12px;\n",
              "    }\n",
              "\n",
              "    .colab-df-convert {\n",
              "      background-color: #E8F0FE;\n",
              "      border: none;\n",
              "      border-radius: 50%;\n",
              "      cursor: pointer;\n",
              "      display: none;\n",
              "      fill: #1967D2;\n",
              "      height: 32px;\n",
              "      padding: 0 0 0 0;\n",
              "      width: 32px;\n",
              "    }\n",
              "\n",
              "    .colab-df-convert:hover {\n",
              "      background-color: #E2EBFA;\n",
              "      box-shadow: 0px 1px 2px rgba(60, 64, 67, 0.3), 0px 1px 3px 1px rgba(60, 64, 67, 0.15);\n",
              "      fill: #174EA6;\n",
              "    }\n",
              "\n",
              "    [theme=dark] .colab-df-convert {\n",
              "      background-color: #3B4455;\n",
              "      fill: #D2E3FC;\n",
              "    }\n",
              "\n",
              "    [theme=dark] .colab-df-convert:hover {\n",
              "      background-color: #434B5C;\n",
              "      box-shadow: 0px 1px 3px 1px rgba(0, 0, 0, 0.15);\n",
              "      filter: drop-shadow(0px 1px 2px rgba(0, 0, 0, 0.3));\n",
              "      fill: #FFFFFF;\n",
              "    }\n",
              "  </style>\n",
              "\n",
              "      <script>\n",
              "        const buttonEl =\n",
              "          document.querySelector('#df-1562aeef-6e66-4458-935c-a232cf07c5c9 button.colab-df-convert');\n",
              "        buttonEl.style.display =\n",
              "          google.colab.kernel.accessAllowed ? 'block' : 'none';\n",
              "\n",
              "        async function convertToInteractive(key) {\n",
              "          const element = document.querySelector('#df-1562aeef-6e66-4458-935c-a232cf07c5c9');\n",
              "          const dataTable =\n",
              "            await google.colab.kernel.invokeFunction('convertToInteractive',\n",
              "                                                     [key], {});\n",
              "          if (!dataTable) return;\n",
              "\n",
              "          const docLinkHtml = 'Like what you see? Visit the ' +\n",
              "            '<a target=\"_blank\" href=https://colab.research.google.com/notebooks/data_table.ipynb>data table notebook</a>'\n",
              "            + ' to learn more about interactive tables.';\n",
              "          element.innerHTML = '';\n",
              "          dataTable['output_type'] = 'display_data';\n",
              "          await google.colab.output.renderOutput(dataTable, element);\n",
              "          const docLink = document.createElement('div');\n",
              "          docLink.innerHTML = docLinkHtml;\n",
              "          element.appendChild(docLink);\n",
              "        }\n",
              "      </script>\n",
              "    </div>\n",
              "  </div>\n",
              "  "
            ]
          },
          "metadata": {},
          "execution_count": 8
        }
      ],
      "source": [
        "loan_train.describe()"
      ]
    },
    {
      "cell_type": "code",
      "execution_count": null,
      "id": "162ac090",
      "metadata": {
        "execution": {
          "iopub.execute_input": "2022-02-25T13:04:43.017646Z",
          "iopub.status.busy": "2022-02-25T13:04:43.015394Z",
          "iopub.status.idle": "2022-02-25T13:04:43.021967Z",
          "shell.execute_reply": "2022-02-25T13:04:43.022695Z",
          "shell.execute_reply.started": "2022-02-25T13:02:52.371231Z"
        },
        "papermill": {
          "duration": 0.053054,
          "end_time": "2022-02-25T13:04:43.022886",
          "exception": false,
          "start_time": "2022-02-25T13:04:42.969832",
          "status": "completed"
        },
        "tags": [],
        "colab": {
          "base_uri": "https://localhost:8080/"
        },
        "id": "162ac090",
        "outputId": "010e5b81-2764-4afb-b996-0692330001da"
      },
      "outputs": [
        {
          "output_type": "execute_result",
          "data": {
            "text/plain": [
              "614"
            ]
          },
          "metadata": {},
          "execution_count": 9
        }
      ],
      "source": [
        "len(loan_train)"
      ]
    },
    {
      "cell_type": "code",
      "execution_count": null,
      "id": "3d67d80f",
      "metadata": {
        "execution": {
          "iopub.execute_input": "2022-02-25T13:04:43.117818Z",
          "iopub.status.busy": "2022-02-25T13:04:43.115697Z",
          "iopub.status.idle": "2022-02-25T13:04:43.121309Z",
          "shell.execute_reply": "2022-02-25T13:04:43.120858Z",
          "shell.execute_reply.started": "2022-02-25T13:02:52.382090Z"
        },
        "papermill": {
          "duration": 0.052682,
          "end_time": "2022-02-25T13:04:43.121440",
          "exception": false,
          "start_time": "2022-02-25T13:04:43.068758",
          "status": "completed"
        },
        "tags": [],
        "colab": {
          "base_uri": "https://localhost:8080/"
        },
        "id": "3d67d80f",
        "outputId": "505e7ced-bd4c-4084-8c6c-6c7f9d62c9d4"
      },
      "outputs": [
        {
          "output_type": "execute_result",
          "data": {
            "text/plain": [
              "367"
            ]
          },
          "metadata": {},
          "execution_count": 10
        }
      ],
      "source": [
        "len(loan_test)"
      ]
    },
    {
      "cell_type": "code",
      "execution_count": null,
      "id": "452b8831",
      "metadata": {
        "execution": {
          "iopub.execute_input": "2022-02-25T13:04:43.215662Z",
          "iopub.status.busy": "2022-02-25T13:04:43.211975Z",
          "iopub.status.idle": "2022-02-25T13:04:43.219052Z",
          "shell.execute_reply": "2022-02-25T13:04:43.219684Z",
          "shell.execute_reply.started": "2022-02-25T13:02:52.392750Z"
        },
        "papermill": {
          "duration": 0.055054,
          "end_time": "2022-02-25T13:04:43.219862",
          "exception": false,
          "start_time": "2022-02-25T13:04:43.164808",
          "status": "completed"
        },
        "tags": [],
        "colab": {
          "base_uri": "https://localhost:8080/"
        },
        "id": "452b8831",
        "outputId": "8eb8a3c7-9ac4-4323-a5ef-c076e19a787e"
      },
      "outputs": [
        {
          "output_type": "execute_result",
          "data": {
            "text/plain": [
              "True"
            ]
          },
          "metadata": {},
          "execution_count": 11
        }
      ],
      "source": [
        "# We have missing data\n",
        "loan_train.isna().values.any()"
      ]
    },
    {
      "cell_type": "code",
      "execution_count": null,
      "id": "c5cefd8b",
      "metadata": {
        "execution": {
          "iopub.execute_input": "2022-02-25T13:04:43.315404Z",
          "iopub.status.busy": "2022-02-25T13:04:43.314806Z",
          "iopub.status.idle": "2022-02-25T13:04:43.320393Z",
          "shell.execute_reply": "2022-02-25T13:04:43.320831Z",
          "shell.execute_reply.started": "2022-02-25T13:02:52.406173Z"
        },
        "papermill": {
          "duration": 0.053839,
          "end_time": "2022-02-25T13:04:43.321008",
          "exception": false,
          "start_time": "2022-02-25T13:04:43.267169",
          "status": "completed"
        },
        "tags": [],
        "colab": {
          "base_uri": "https://localhost:8080/"
        },
        "id": "c5cefd8b",
        "outputId": "6c48df50-bbd5-42cc-ac3a-69b5bf5adcc1"
      },
      "outputs": [
        {
          "output_type": "execute_result",
          "data": {
            "text/plain": [
              "True"
            ]
          },
          "metadata": {},
          "execution_count": 12
        }
      ],
      "source": [
        "# we have missing data\n",
        "loan_test.isna().values.any()"
      ]
    },
    {
      "cell_type": "code",
      "execution_count": null,
      "id": "225a4481",
      "metadata": {
        "execution": {
          "iopub.execute_input": "2022-02-25T13:04:44.070339Z",
          "iopub.status.busy": "2022-02-25T13:04:44.069589Z",
          "iopub.status.idle": "2022-02-25T13:04:44.077015Z",
          "shell.execute_reply": "2022-02-25T13:04:44.077490Z",
          "shell.execute_reply.started": "2022-02-25T13:02:53.003381Z"
        },
        "papermill": {
          "duration": 0.057249,
          "end_time": "2022-02-25T13:04:44.077672",
          "exception": false,
          "start_time": "2022-02-25T13:04:44.020423",
          "status": "completed"
        },
        "tags": [],
        "colab": {
          "base_uri": "https://localhost:8080/"
        },
        "id": "225a4481",
        "outputId": "787b210d-e7a9-44f5-d663-d6cba9dc4ea3"
      },
      "outputs": [
        {
          "output_type": "execute_result",
          "data": {
            "text/plain": [
              "Loan_ID               0\n",
              "Gender               13\n",
              "Married               3\n",
              "Dependents           15\n",
              "Education             0\n",
              "Self_Employed        32\n",
              "ApplicantIncome       0\n",
              "CoapplicantIncome     0\n",
              "LoanAmount           22\n",
              "Loan_Amount_Term     14\n",
              "Credit_History       50\n",
              "Property_Area         0\n",
              "Loan_Status           0\n",
              "dtype: int64"
            ]
          },
          "metadata": {},
          "execution_count": 13
        }
      ],
      "source": [
        "loan_train.isna().sum()"
      ]
    },
    {
      "cell_type": "markdown",
      "id": "baf47717",
      "metadata": {
        "papermill": {
          "duration": 0.050427,
          "end_time": "2022-02-25T13:04:44.179995",
          "exception": false,
          "start_time": "2022-02-25T13:04:44.129568",
          "status": "completed"
        },
        "tags": [],
        "id": "baf47717"
      },
      "source": [
        "# Data Cleaning & Preparation"
      ]
    },
    {
      "cell_type": "code",
      "execution_count": null,
      "id": "e3100afa",
      "metadata": {
        "execution": {
          "iopub.execute_input": "2022-02-25T13:04:44.289294Z",
          "iopub.status.busy": "2022-02-25T13:04:44.282362Z",
          "iopub.status.idle": "2022-02-25T13:04:44.293164Z",
          "shell.execute_reply": "2022-02-25T13:04:44.292683Z",
          "shell.execute_reply.started": "2022-02-25T13:02:53.018005Z"
        },
        "papermill": {
          "duration": 0.063165,
          "end_time": "2022-02-25T13:04:44.293313",
          "exception": false,
          "start_time": "2022-02-25T13:04:44.230148",
          "status": "completed"
        },
        "tags": [],
        "colab": {
          "base_uri": "https://localhost:8080/"
        },
        "id": "e3100afa",
        "outputId": "8259c8cb-af93-403a-9a59-9141a29f88bd"
      },
      "outputs": [
        {
          "output_type": "execute_result",
          "data": {
            "text/plain": [
              "False"
            ]
          },
          "metadata": {},
          "execution_count": 14
        }
      ],
      "source": [
        "# We'll do a forward fill here, so, we get only 1 or 0 to fill the missing data\n",
        "\n",
        "loan_train['Credit_History'].fillna(method='ffill', inplace=True)\n",
        "loan_train['Credit_History'].isna().values.any()"
      ]
    },
    {
      "cell_type": "code",
      "execution_count": null,
      "id": "3fff2472",
      "metadata": {
        "execution": {
          "iopub.execute_input": "2022-02-25T13:04:44.401892Z",
          "iopub.status.busy": "2022-02-25T13:04:44.401162Z",
          "iopub.status.idle": "2022-02-25T13:04:44.405831Z",
          "shell.execute_reply": "2022-02-25T13:04:44.406330Z",
          "shell.execute_reply.started": "2022-02-25T13:02:53.031820Z"
        },
        "papermill": {
          "duration": 0.062374,
          "end_time": "2022-02-25T13:04:44.406518",
          "exception": false,
          "start_time": "2022-02-25T13:04:44.344144",
          "status": "completed"
        },
        "tags": [],
        "colab": {
          "base_uri": "https://localhost:8080/"
        },
        "id": "3fff2472",
        "outputId": "71710073-eca3-4632-e426-2a2208d92464"
      },
      "outputs": [
        {
          "output_type": "execute_result",
          "data": {
            "text/plain": [
              "False"
            ]
          },
          "metadata": {},
          "execution_count": 15
        }
      ],
      "source": [
        "# We'll fill this column using the median of the values\n",
        "\n",
        "median_loan = loan_train['Loan_Amount_Term'].median()\n",
        "loan_train['Loan_Amount_Term'].fillna((median_loan), inplace=True)\n",
        "loan_train['Loan_Amount_Term'].isna().values.any()"
      ]
    },
    {
      "cell_type": "code",
      "execution_count": null,
      "id": "b0d28076",
      "metadata": {
        "execution": {
          "iopub.execute_input": "2022-02-25T13:04:44.504536Z",
          "iopub.status.busy": "2022-02-25T13:04:44.503930Z",
          "iopub.status.idle": "2022-02-25T13:04:44.510139Z",
          "shell.execute_reply": "2022-02-25T13:04:44.510733Z",
          "shell.execute_reply.started": "2022-02-25T13:02:53.042950Z"
        },
        "papermill": {
          "duration": 0.056712,
          "end_time": "2022-02-25T13:04:44.510909",
          "exception": false,
          "start_time": "2022-02-25T13:04:44.454197",
          "status": "completed"
        },
        "tags": [],
        "colab": {
          "base_uri": "https://localhost:8080/"
        },
        "id": "b0d28076",
        "outputId": "d36436a3-943b-4f3a-8edf-3f51d7dced6e"
      },
      "outputs": [
        {
          "output_type": "execute_result",
          "data": {
            "text/plain": [
              "False"
            ]
          },
          "metadata": {},
          "execution_count": 16
        }
      ],
      "source": [
        "# We'll fill this column using the median of the values\n",
        "\n",
        "median_loan_amount = loan_train['LoanAmount'].median()\n",
        "loan_train['LoanAmount'].fillna((median_loan_amount), inplace=True)\n",
        "loan_train['LoanAmount'].isna().values.any()"
      ]
    },
    {
      "cell_type": "code",
      "execution_count": null,
      "id": "d2af4fa6",
      "metadata": {
        "execution": {
          "iopub.execute_input": "2022-02-25T13:04:44.612695Z",
          "iopub.status.busy": "2022-02-25T13:04:44.612069Z",
          "iopub.status.idle": "2022-02-25T13:04:44.619098Z",
          "shell.execute_reply": "2022-02-25T13:04:44.619647Z",
          "shell.execute_reply.started": "2022-02-25T13:02:53.058642Z"
        },
        "papermill": {
          "duration": 0.059483,
          "end_time": "2022-02-25T13:04:44.619817",
          "exception": false,
          "start_time": "2022-02-25T13:04:44.560334",
          "status": "completed"
        },
        "tags": [],
        "colab": {
          "base_uri": "https://localhost:8080/"
        },
        "id": "d2af4fa6",
        "outputId": "5c3b1c0b-772b-43a2-ab26-d47493de1de1"
      },
      "outputs": [
        {
          "output_type": "execute_result",
          "data": {
            "text/plain": [
              "No     500\n",
              "Yes     82\n",
              "Name: Self_Employed, dtype: int64"
            ]
          },
          "metadata": {},
          "execution_count": 17
        }
      ],
      "source": [
        "# Count the values to know which occurs most frequently\n",
        "loan_train['Self_Employed'].value_counts()"
      ]
    },
    {
      "cell_type": "code",
      "execution_count": null,
      "id": "03270bb2",
      "metadata": {
        "execution": {
          "iopub.execute_input": "2022-02-25T13:04:44.720586Z",
          "iopub.status.busy": "2022-02-25T13:04:44.719989Z",
          "iopub.status.idle": "2022-02-25T13:04:44.726344Z",
          "shell.execute_reply": "2022-02-25T13:04:44.726845Z",
          "shell.execute_reply.started": "2022-02-25T13:02:53.074413Z"
        },
        "papermill": {
          "duration": 0.058641,
          "end_time": "2022-02-25T13:04:44.727014",
          "exception": false,
          "start_time": "2022-02-25T13:04:44.668373",
          "status": "completed"
        },
        "tags": [],
        "colab": {
          "base_uri": "https://localhost:8080/"
        },
        "id": "03270bb2",
        "outputId": "47aa19b3-53db-453c-fa27-a811cbe38426"
      },
      "outputs": [
        {
          "output_type": "execute_result",
          "data": {
            "text/plain": [
              "False"
            ]
          },
          "metadata": {},
          "execution_count": 18
        }
      ],
      "source": [
        "#Fill with mode\n",
        "loan_train['Self_Employed'].fillna('No', inplace=True)\n",
        "loan_train['Self_Employed'].isna().values.any()"
      ]
    },
    {
      "cell_type": "code",
      "execution_count": null,
      "id": "f2eb2a17",
      "metadata": {
        "execution": {
          "iopub.execute_input": "2022-02-25T13:04:44.827792Z",
          "iopub.status.busy": "2022-02-25T13:04:44.827137Z",
          "iopub.status.idle": "2022-02-25T13:04:44.833597Z",
          "shell.execute_reply": "2022-02-25T13:04:44.834106Z",
          "shell.execute_reply.started": "2022-02-25T13:02:53.086586Z"
        },
        "papermill": {
          "duration": 0.05929,
          "end_time": "2022-02-25T13:04:44.834281",
          "exception": false,
          "start_time": "2022-02-25T13:04:44.774991",
          "status": "completed"
        },
        "tags": [],
        "colab": {
          "base_uri": "https://localhost:8080/"
        },
        "id": "f2eb2a17",
        "outputId": "396874b4-2695-42dd-e8fe-b1c9209854d7"
      },
      "outputs": [
        {
          "output_type": "execute_result",
          "data": {
            "text/plain": [
              "False"
            ]
          },
          "metadata": {},
          "execution_count": 19
        }
      ],
      "source": [
        "# fill with mode\n",
        "loan_train['Dependents'].fillna(0, inplace=True)\n",
        "loan_train['Dependents'].isna().values.any()"
      ]
    },
    {
      "cell_type": "code",
      "execution_count": null,
      "id": "7e2ea535",
      "metadata": {
        "execution": {
          "iopub.execute_input": "2022-02-25T13:04:44.935864Z",
          "iopub.status.busy": "2022-02-25T13:04:44.934135Z",
          "iopub.status.idle": "2022-02-25T13:04:44.941246Z",
          "shell.execute_reply": "2022-02-25T13:04:44.941879Z",
          "shell.execute_reply.started": "2022-02-25T13:02:53.098347Z"
        },
        "papermill": {
          "duration": 0.058891,
          "end_time": "2022-02-25T13:04:44.942058",
          "exception": false,
          "start_time": "2022-02-25T13:04:44.883167",
          "status": "completed"
        },
        "tags": [],
        "colab": {
          "base_uri": "https://localhost:8080/"
        },
        "id": "7e2ea535",
        "outputId": "b103f24f-4d8d-47f0-b1c4-adfd89c90ac4"
      },
      "outputs": [
        {
          "output_type": "execute_result",
          "data": {
            "text/plain": [
              "0    Yes\n",
              "dtype: object"
            ]
          },
          "metadata": {},
          "execution_count": 20
        }
      ],
      "source": [
        "loan_train['Married'].mode()"
      ]
    },
    {
      "cell_type": "code",
      "execution_count": null,
      "id": "e6e79407",
      "metadata": {
        "execution": {
          "iopub.execute_input": "2022-02-25T13:04:45.047019Z",
          "iopub.status.busy": "2022-02-25T13:04:45.046358Z",
          "iopub.status.idle": "2022-02-25T13:04:45.048878Z",
          "shell.execute_reply": "2022-02-25T13:04:45.049318Z",
          "shell.execute_reply.started": "2022-02-25T13:02:53.114003Z"
        },
        "papermill": {
          "duration": 0.059014,
          "end_time": "2022-02-25T13:04:45.049504",
          "exception": false,
          "start_time": "2022-02-25T13:04:44.990490",
          "status": "completed"
        },
        "tags": [],
        "colab": {
          "base_uri": "https://localhost:8080/"
        },
        "id": "e6e79407",
        "outputId": "0c2d26e5-53c8-4a23-d995-301306dc6c12"
      },
      "outputs": [
        {
          "output_type": "execute_result",
          "data": {
            "text/plain": [
              "False"
            ]
          },
          "metadata": {},
          "execution_count": 21
        }
      ],
      "source": [
        "# fill with mode\n",
        "loan_train['Married'].fillna('Yes', inplace=True)\n",
        "loan_train['Married'].isna().values.any()"
      ]
    },
    {
      "cell_type": "code",
      "execution_count": null,
      "id": "65db468f",
      "metadata": {
        "execution": {
          "iopub.execute_input": "2022-02-25T13:04:45.151833Z",
          "iopub.status.busy": "2022-02-25T13:04:45.151188Z",
          "iopub.status.idle": "2022-02-25T13:04:45.157356Z",
          "shell.execute_reply": "2022-02-25T13:04:45.157931Z",
          "shell.execute_reply.started": "2022-02-25T13:02:53.127407Z"
        },
        "papermill": {
          "duration": 0.059172,
          "end_time": "2022-02-25T13:04:45.158092",
          "exception": false,
          "start_time": "2022-02-25T13:04:45.098920",
          "status": "completed"
        },
        "tags": [],
        "colab": {
          "base_uri": "https://localhost:8080/"
        },
        "id": "65db468f",
        "outputId": "155849cf-ae9d-47f1-910c-b501c848513d"
      },
      "outputs": [
        {
          "output_type": "execute_result",
          "data": {
            "text/plain": [
              "0    Male\n",
              "dtype: object"
            ]
          },
          "metadata": {},
          "execution_count": 22
        }
      ],
      "source": [
        "loan_train['Gender'].mode()"
      ]
    },
    {
      "cell_type": "code",
      "execution_count": null,
      "id": "46786b58",
      "metadata": {
        "execution": {
          "iopub.execute_input": "2022-02-25T13:04:45.260579Z",
          "iopub.status.busy": "2022-02-25T13:04:45.260000Z",
          "iopub.status.idle": "2022-02-25T13:04:45.267577Z",
          "shell.execute_reply": "2022-02-25T13:04:45.267095Z",
          "shell.execute_reply.started": "2022-02-25T13:02:53.145086Z"
        },
        "papermill": {
          "duration": 0.059777,
          "end_time": "2022-02-25T13:04:45.267720",
          "exception": false,
          "start_time": "2022-02-25T13:04:45.207943",
          "status": "completed"
        },
        "tags": [],
        "colab": {
          "base_uri": "https://localhost:8080/"
        },
        "id": "46786b58",
        "outputId": "7c278109-cac2-4e14-d28c-5d58a36465df"
      },
      "outputs": [
        {
          "output_type": "execute_result",
          "data": {
            "text/plain": [
              "False"
            ]
          },
          "metadata": {},
          "execution_count": 23
        }
      ],
      "source": [
        "# fill with mode\n",
        "loan_train['Gender'].fillna('Male', inplace=True)\n",
        "loan_train['Gender'].isna().values.any()"
      ]
    },
    {
      "cell_type": "code",
      "execution_count": null,
      "id": "9d5891ba",
      "metadata": {
        "execution": {
          "iopub.execute_input": "2022-02-25T13:04:45.371254Z",
          "iopub.status.busy": "2022-02-25T13:04:45.370672Z",
          "iopub.status.idle": "2022-02-25T13:04:45.378627Z",
          "shell.execute_reply": "2022-02-25T13:04:45.379167Z",
          "shell.execute_reply.started": "2022-02-25T13:02:53.161653Z"
        },
        "papermill": {
          "duration": 0.061417,
          "end_time": "2022-02-25T13:04:45.379386",
          "exception": false,
          "start_time": "2022-02-25T13:04:45.317969",
          "status": "completed"
        },
        "tags": [],
        "colab": {
          "base_uri": "https://localhost:8080/"
        },
        "id": "9d5891ba",
        "outputId": "89ca6956-5c60-4b20-dd51-6c460334c1f4"
      },
      "outputs": [
        {
          "output_type": "execute_result",
          "data": {
            "text/plain": [
              "Loan_ID              0\n",
              "Gender               0\n",
              "Married              0\n",
              "Dependents           0\n",
              "Education            0\n",
              "Self_Employed        0\n",
              "ApplicantIncome      0\n",
              "CoapplicantIncome    0\n",
              "LoanAmount           0\n",
              "Loan_Amount_Term     0\n",
              "Credit_History       0\n",
              "Property_Area        0\n",
              "Loan_Status          0\n",
              "dtype: int64"
            ]
          },
          "metadata": {},
          "execution_count": 24
        }
      ],
      "source": [
        "# Let's run a quick check\n",
        "loan_train.isna().sum()"
      ]
    },
    {
      "cell_type": "markdown",
      "id": "4fccc17e",
      "metadata": {
        "papermill": {
          "duration": 0.052061,
          "end_time": "2022-02-25T13:04:45.486008",
          "exception": false,
          "start_time": "2022-02-25T13:04:45.433947",
          "status": "completed"
        },
        "tags": [],
        "id": "4fccc17e"
      },
      "source": [
        "### After sorting the missing values for train data, I will do the same for test data "
      ]
    },
    {
      "cell_type": "code",
      "execution_count": null,
      "id": "c2da397d",
      "metadata": {
        "execution": {
          "iopub.execute_input": "2022-02-25T13:04:45.588316Z",
          "iopub.status.busy": "2022-02-25T13:04:45.587705Z",
          "iopub.status.idle": "2022-02-25T13:04:45.592888Z",
          "shell.execute_reply": "2022-02-25T13:04:45.593411Z",
          "shell.execute_reply.started": "2022-02-25T13:02:53.177228Z"
        },
        "papermill": {
          "duration": 0.058316,
          "end_time": "2022-02-25T13:04:45.593597",
          "exception": false,
          "start_time": "2022-02-25T13:04:45.535281",
          "status": "completed"
        },
        "tags": [],
        "colab": {
          "base_uri": "https://localhost:8080/"
        },
        "id": "c2da397d",
        "outputId": "2b2d50ad-fef1-4efe-da8e-3fa832142025"
      },
      "outputs": [
        {
          "output_type": "execute_result",
          "data": {
            "text/plain": [
              "Loan_ID               0\n",
              "Gender               11\n",
              "Married               0\n",
              "Dependents           10\n",
              "Education             0\n",
              "Self_Employed        23\n",
              "ApplicantIncome       0\n",
              "CoapplicantIncome     0\n",
              "LoanAmount            5\n",
              "Loan_Amount_Term      6\n",
              "Credit_History       29\n",
              "Property_Area         0\n",
              "dtype: int64"
            ]
          },
          "metadata": {},
          "execution_count": 25
        }
      ],
      "source": [
        "# A preview of missing data in the testing set\n",
        "\n",
        "loan_test.isna().sum()"
      ]
    },
    {
      "cell_type": "code",
      "execution_count": null,
      "id": "4ca0c155",
      "metadata": {
        "execution": {
          "iopub.execute_input": "2022-02-25T13:04:45.697637Z",
          "iopub.status.busy": "2022-02-25T13:04:45.696997Z",
          "iopub.status.idle": "2022-02-25T13:04:45.705534Z",
          "shell.execute_reply": "2022-02-25T13:04:45.706022Z",
          "shell.execute_reply.started": "2022-02-25T13:02:53.192887Z"
        },
        "papermill": {
          "duration": 0.06194,
          "end_time": "2022-02-25T13:04:45.706196",
          "exception": false,
          "start_time": "2022-02-25T13:04:45.644256",
          "status": "completed"
        },
        "tags": [],
        "id": "4ca0c155"
      },
      "outputs": [],
      "source": [
        "# fill in credit history\n",
        "loan_test['Credit_History'].fillna(method='ffill', inplace=True)\n",
        "\n",
        "# fill in loan amount term\n",
        "median_loan_test = loan_test['Loan_Amount_Term'].median()\n",
        "loan_test['Loan_Amount_Term'].fillna((median_loan_test), inplace=True)\n",
        "\n",
        "# fill in loan amount\n",
        "median_loan_amount_test = loan_test['LoanAmount'].median()\n",
        "loan_test['LoanAmount'].fillna((median_loan_amount_test), inplace=True)\n",
        "\n",
        "# fill in self employed\n",
        "loan_test['Self_Employed'].fillna('No', inplace=True)\n",
        "\n",
        "# fill in dependents\n",
        "loan_test['Dependents'].fillna(0, inplace=True)\n",
        "\n",
        "# fill in gender\n",
        "loan_test['Gender'].fillna('Male', inplace=True)\n"
      ]
    },
    {
      "cell_type": "code",
      "execution_count": null,
      "id": "6bb61fbb",
      "metadata": {
        "execution": {
          "iopub.execute_input": "2022-02-25T13:04:45.813577Z",
          "iopub.status.busy": "2022-02-25T13:04:45.812940Z",
          "iopub.status.idle": "2022-02-25T13:04:45.816375Z",
          "shell.execute_reply": "2022-02-25T13:04:45.816883Z",
          "shell.execute_reply.started": "2022-02-25T13:02:53.206908Z"
        },
        "papermill": {
          "duration": 0.059774,
          "end_time": "2022-02-25T13:04:45.817054",
          "exception": false,
          "start_time": "2022-02-25T13:04:45.757280",
          "status": "completed"
        },
        "tags": [],
        "colab": {
          "base_uri": "https://localhost:8080/"
        },
        "id": "6bb61fbb",
        "outputId": "527aa13e-5bfc-4788-e320-848711debc02"
      },
      "outputs": [
        {
          "output_type": "execute_result",
          "data": {
            "text/plain": [
              "False"
            ]
          },
          "metadata": {},
          "execution_count": 27
        }
      ],
      "source": [
        "loan_test.isna().values.any()"
      ]
    },
    {
      "cell_type": "code",
      "execution_count": null,
      "id": "e39b394a",
      "metadata": {
        "execution": {
          "iopub.execute_input": "2022-02-25T13:04:45.919406Z",
          "iopub.status.busy": "2022-02-25T13:04:45.918814Z",
          "iopub.status.idle": "2022-02-25T13:04:45.925797Z",
          "shell.execute_reply": "2022-02-25T13:04:45.926325Z",
          "shell.execute_reply.started": "2022-02-25T13:02:53.218665Z"
        },
        "papermill": {
          "duration": 0.059929,
          "end_time": "2022-02-25T13:04:45.926509",
          "exception": false,
          "start_time": "2022-02-25T13:04:45.866580",
          "status": "completed"
        },
        "tags": [],
        "colab": {
          "base_uri": "https://localhost:8080/"
        },
        "id": "e39b394a",
        "outputId": "423be881-979a-40ee-90a8-a3922ab26f21"
      },
      "outputs": [
        {
          "output_type": "execute_result",
          "data": {
            "text/plain": [
              "Loan_ID              0\n",
              "Gender               0\n",
              "Married              0\n",
              "Dependents           0\n",
              "Education            0\n",
              "Self_Employed        0\n",
              "ApplicantIncome      0\n",
              "CoapplicantIncome    0\n",
              "LoanAmount           0\n",
              "Loan_Amount_Term     0\n",
              "Credit_History       0\n",
              "Property_Area        0\n",
              "dtype: int64"
            ]
          },
          "metadata": {},
          "execution_count": 28
        }
      ],
      "source": [
        "# Let's run a final check\n",
        "\n",
        "loan_test.isna().sum()"
      ]
    },
    {
      "cell_type": "markdown",
      "id": "3030a92d",
      "metadata": {
        "papermill": {
          "duration": 0.050126,
          "end_time": "2022-02-25T13:04:46.029520",
          "exception": false,
          "start_time": "2022-02-25T13:04:45.979394",
          "status": "completed"
        },
        "tags": [],
        "id": "3030a92d"
      },
      "source": [
        "### Let's deal with duplicate values"
      ]
    },
    {
      "cell_type": "code",
      "execution_count": null,
      "id": "0e6df456",
      "metadata": {
        "execution": {
          "iopub.execute_input": "2022-02-25T13:04:46.133971Z",
          "iopub.status.busy": "2022-02-25T13:04:46.133303Z",
          "iopub.status.idle": "2022-02-25T13:04:46.140738Z",
          "shell.execute_reply": "2022-02-25T13:04:46.141216Z",
          "shell.execute_reply.started": "2022-02-25T13:02:53.232189Z"
        },
        "papermill": {
          "duration": 0.061456,
          "end_time": "2022-02-25T13:04:46.141378",
          "exception": false,
          "start_time": "2022-02-25T13:04:46.079922",
          "status": "completed"
        },
        "tags": [],
        "colab": {
          "base_uri": "https://localhost:8080/"
        },
        "id": "0e6df456",
        "outputId": "aef108de-0547-4bf3-b877-4cd03891efde"
      },
      "outputs": [
        {
          "output_type": "execute_result",
          "data": {
            "text/plain": [
              "False"
            ]
          },
          "metadata": {},
          "execution_count": 29
        }
      ],
      "source": [
        "loan_train.duplicated().values.any()"
      ]
    },
    {
      "cell_type": "code",
      "execution_count": null,
      "id": "6723f38b",
      "metadata": {
        "execution": {
          "iopub.execute_input": "2022-02-25T13:04:46.246515Z",
          "iopub.status.busy": "2022-02-25T13:04:46.245907Z",
          "iopub.status.idle": "2022-02-25T13:04:46.252117Z",
          "shell.execute_reply": "2022-02-25T13:04:46.252596Z",
          "shell.execute_reply.started": "2022-02-25T13:02:53.246626Z"
        },
        "papermill": {
          "duration": 0.059529,
          "end_time": "2022-02-25T13:04:46.252757",
          "exception": false,
          "start_time": "2022-02-25T13:04:46.193228",
          "status": "completed"
        },
        "tags": [],
        "colab": {
          "base_uri": "https://localhost:8080/"
        },
        "id": "6723f38b",
        "outputId": "e1826098-6373-40bd-89bb-0c5adec44a7a"
      },
      "outputs": [
        {
          "output_type": "execute_result",
          "data": {
            "text/plain": [
              "False"
            ]
          },
          "metadata": {},
          "execution_count": 30
        }
      ],
      "source": [
        "loan_test.duplicated().values.any()"
      ]
    },
    {
      "cell_type": "markdown",
      "id": "c4ba6914",
      "metadata": {
        "papermill": {
          "duration": 0.050685,
          "end_time": "2022-02-25T13:04:46.354099",
          "exception": false,
          "start_time": "2022-02-25T13:04:46.303414",
          "status": "completed"
        },
        "tags": [],
        "id": "c4ba6914"
      },
      "source": [
        "# Data Visualization & Exploratory Analysis"
      ]
    },
    {
      "cell_type": "code",
      "execution_count": null,
      "id": "678990a1",
      "metadata": {
        "execution": {
          "iopub.execute_input": "2022-02-25T13:04:46.460189Z",
          "iopub.status.busy": "2022-02-25T13:04:46.459585Z",
          "iopub.status.idle": "2022-02-25T13:04:46.474393Z",
          "shell.execute_reply": "2022-02-25T13:04:46.474839Z",
          "shell.execute_reply.started": "2022-02-25T13:02:53.258598Z"
        },
        "papermill": {
          "duration": 0.069731,
          "end_time": "2022-02-25T13:04:46.475014",
          "exception": false,
          "start_time": "2022-02-25T13:04:46.405283",
          "status": "completed"
        },
        "tags": [],
        "colab": {
          "base_uri": "https://localhost:8080/"
        },
        "id": "678990a1",
        "outputId": "71735dc3-fb37-4351-a91d-efd57adac381"
      },
      "outputs": [
        {
          "output_type": "execute_result",
          "data": {
            "text/plain": [
              "    Loan_ID Gender Married Dependents     Education Self_Employed  \\\n",
              "0  LP001002   Male      No          0      Graduate            No   \n",
              "1  LP001003   Male     Yes          1      Graduate            No   \n",
              "2  LP001005   Male     Yes          0      Graduate           Yes   \n",
              "3  LP001006   Male     Yes          0  Not Graduate            No   \n",
              "4  LP001008   Male      No          0      Graduate            No   \n",
              "\n",
              "   ApplicantIncome  CoapplicantIncome  LoanAmount  Loan_Amount_Term  \\\n",
              "0             5849                0.0       128.0             360.0   \n",
              "1             4583             1508.0       128.0             360.0   \n",
              "2             3000                0.0        66.0             360.0   \n",
              "3             2583             2358.0       120.0             360.0   \n",
              "4             6000                0.0       141.0             360.0   \n",
              "\n",
              "   Credit_History Property_Area Loan_Status  \n",
              "0             1.0         Urban           Y  \n",
              "1             1.0         Rural           N  \n",
              "2             1.0         Urban           Y  \n",
              "3             1.0         Urban           Y  \n",
              "4             1.0         Urban           Y  "
            ],
            "text/html": [
              "\n",
              "  <div id=\"df-8c6e9fb8-994e-49e2-898a-717e7a83f388\">\n",
              "    <div class=\"colab-df-container\">\n",
              "      <div>\n",
              "<style scoped>\n",
              "    .dataframe tbody tr th:only-of-type {\n",
              "        vertical-align: middle;\n",
              "    }\n",
              "\n",
              "    .dataframe tbody tr th {\n",
              "        vertical-align: top;\n",
              "    }\n",
              "\n",
              "    .dataframe thead th {\n",
              "        text-align: right;\n",
              "    }\n",
              "</style>\n",
              "<table border=\"1\" class=\"dataframe\">\n",
              "  <thead>\n",
              "    <tr style=\"text-align: right;\">\n",
              "      <th></th>\n",
              "      <th>Loan_ID</th>\n",
              "      <th>Gender</th>\n",
              "      <th>Married</th>\n",
              "      <th>Dependents</th>\n",
              "      <th>Education</th>\n",
              "      <th>Self_Employed</th>\n",
              "      <th>ApplicantIncome</th>\n",
              "      <th>CoapplicantIncome</th>\n",
              "      <th>LoanAmount</th>\n",
              "      <th>Loan_Amount_Term</th>\n",
              "      <th>Credit_History</th>\n",
              "      <th>Property_Area</th>\n",
              "      <th>Loan_Status</th>\n",
              "    </tr>\n",
              "  </thead>\n",
              "  <tbody>\n",
              "    <tr>\n",
              "      <th>0</th>\n",
              "      <td>LP001002</td>\n",
              "      <td>Male</td>\n",
              "      <td>No</td>\n",
              "      <td>0</td>\n",
              "      <td>Graduate</td>\n",
              "      <td>No</td>\n",
              "      <td>5849</td>\n",
              "      <td>0.0</td>\n",
              "      <td>128.0</td>\n",
              "      <td>360.0</td>\n",
              "      <td>1.0</td>\n",
              "      <td>Urban</td>\n",
              "      <td>Y</td>\n",
              "    </tr>\n",
              "    <tr>\n",
              "      <th>1</th>\n",
              "      <td>LP001003</td>\n",
              "      <td>Male</td>\n",
              "      <td>Yes</td>\n",
              "      <td>1</td>\n",
              "      <td>Graduate</td>\n",
              "      <td>No</td>\n",
              "      <td>4583</td>\n",
              "      <td>1508.0</td>\n",
              "      <td>128.0</td>\n",
              "      <td>360.0</td>\n",
              "      <td>1.0</td>\n",
              "      <td>Rural</td>\n",
              "      <td>N</td>\n",
              "    </tr>\n",
              "    <tr>\n",
              "      <th>2</th>\n",
              "      <td>LP001005</td>\n",
              "      <td>Male</td>\n",
              "      <td>Yes</td>\n",
              "      <td>0</td>\n",
              "      <td>Graduate</td>\n",
              "      <td>Yes</td>\n",
              "      <td>3000</td>\n",
              "      <td>0.0</td>\n",
              "      <td>66.0</td>\n",
              "      <td>360.0</td>\n",
              "      <td>1.0</td>\n",
              "      <td>Urban</td>\n",
              "      <td>Y</td>\n",
              "    </tr>\n",
              "    <tr>\n",
              "      <th>3</th>\n",
              "      <td>LP001006</td>\n",
              "      <td>Male</td>\n",
              "      <td>Yes</td>\n",
              "      <td>0</td>\n",
              "      <td>Not Graduate</td>\n",
              "      <td>No</td>\n",
              "      <td>2583</td>\n",
              "      <td>2358.0</td>\n",
              "      <td>120.0</td>\n",
              "      <td>360.0</td>\n",
              "      <td>1.0</td>\n",
              "      <td>Urban</td>\n",
              "      <td>Y</td>\n",
              "    </tr>\n",
              "    <tr>\n",
              "      <th>4</th>\n",
              "      <td>LP001008</td>\n",
              "      <td>Male</td>\n",
              "      <td>No</td>\n",
              "      <td>0</td>\n",
              "      <td>Graduate</td>\n",
              "      <td>No</td>\n",
              "      <td>6000</td>\n",
              "      <td>0.0</td>\n",
              "      <td>141.0</td>\n",
              "      <td>360.0</td>\n",
              "      <td>1.0</td>\n",
              "      <td>Urban</td>\n",
              "      <td>Y</td>\n",
              "    </tr>\n",
              "  </tbody>\n",
              "</table>\n",
              "</div>\n",
              "      <button class=\"colab-df-convert\" onclick=\"convertToInteractive('df-8c6e9fb8-994e-49e2-898a-717e7a83f388')\"\n",
              "              title=\"Convert this dataframe to an interactive table.\"\n",
              "              style=\"display:none;\">\n",
              "        \n",
              "  <svg xmlns=\"http://www.w3.org/2000/svg\" height=\"24px\"viewBox=\"0 0 24 24\"\n",
              "       width=\"24px\">\n",
              "    <path d=\"M0 0h24v24H0V0z\" fill=\"none\"/>\n",
              "    <path d=\"M18.56 5.44l.94 2.06.94-2.06 2.06-.94-2.06-.94-.94-2.06-.94 2.06-2.06.94zm-11 1L8.5 8.5l.94-2.06 2.06-.94-2.06-.94L8.5 2.5l-.94 2.06-2.06.94zm10 10l.94 2.06.94-2.06 2.06-.94-2.06-.94-.94-2.06-.94 2.06-2.06.94z\"/><path d=\"M17.41 7.96l-1.37-1.37c-.4-.4-.92-.59-1.43-.59-.52 0-1.04.2-1.43.59L10.3 9.45l-7.72 7.72c-.78.78-.78 2.05 0 2.83L4 21.41c.39.39.9.59 1.41.59.51 0 1.02-.2 1.41-.59l7.78-7.78 2.81-2.81c.8-.78.8-2.07 0-2.86zM5.41 20L4 18.59l7.72-7.72 1.47 1.35L5.41 20z\"/>\n",
              "  </svg>\n",
              "      </button>\n",
              "      \n",
              "  <style>\n",
              "    .colab-df-container {\n",
              "      display:flex;\n",
              "      flex-wrap:wrap;\n",
              "      gap: 12px;\n",
              "    }\n",
              "\n",
              "    .colab-df-convert {\n",
              "      background-color: #E8F0FE;\n",
              "      border: none;\n",
              "      border-radius: 50%;\n",
              "      cursor: pointer;\n",
              "      display: none;\n",
              "      fill: #1967D2;\n",
              "      height: 32px;\n",
              "      padding: 0 0 0 0;\n",
              "      width: 32px;\n",
              "    }\n",
              "\n",
              "    .colab-df-convert:hover {\n",
              "      background-color: #E2EBFA;\n",
              "      box-shadow: 0px 1px 2px rgba(60, 64, 67, 0.3), 0px 1px 3px 1px rgba(60, 64, 67, 0.15);\n",
              "      fill: #174EA6;\n",
              "    }\n",
              "\n",
              "    [theme=dark] .colab-df-convert {\n",
              "      background-color: #3B4455;\n",
              "      fill: #D2E3FC;\n",
              "    }\n",
              "\n",
              "    [theme=dark] .colab-df-convert:hover {\n",
              "      background-color: #434B5C;\n",
              "      box-shadow: 0px 1px 3px 1px rgba(0, 0, 0, 0.15);\n",
              "      filter: drop-shadow(0px 1px 2px rgba(0, 0, 0, 0.3));\n",
              "      fill: #FFFFFF;\n",
              "    }\n",
              "  </style>\n",
              "\n",
              "      <script>\n",
              "        const buttonEl =\n",
              "          document.querySelector('#df-8c6e9fb8-994e-49e2-898a-717e7a83f388 button.colab-df-convert');\n",
              "        buttonEl.style.display =\n",
              "          google.colab.kernel.accessAllowed ? 'block' : 'none';\n",
              "\n",
              "        async function convertToInteractive(key) {\n",
              "          const element = document.querySelector('#df-8c6e9fb8-994e-49e2-898a-717e7a83f388');\n",
              "          const dataTable =\n",
              "            await google.colab.kernel.invokeFunction('convertToInteractive',\n",
              "                                                     [key], {});\n",
              "          if (!dataTable) return;\n",
              "\n",
              "          const docLinkHtml = 'Like what you see? Visit the ' +\n",
              "            '<a target=\"_blank\" href=https://colab.research.google.com/notebooks/data_table.ipynb>data table notebook</a>'\n",
              "            + ' to learn more about interactive tables.';\n",
              "          element.innerHTML = '';\n",
              "          dataTable['output_type'] = 'display_data';\n",
              "          await google.colab.output.renderOutput(dataTable, element);\n",
              "          const docLink = document.createElement('div');\n",
              "          docLink.innerHTML = docLinkHtml;\n",
              "          element.appendChild(docLink);\n",
              "        }\n",
              "      </script>\n",
              "    </div>\n",
              "  </div>\n",
              "  "
            ]
          },
          "metadata": {},
          "execution_count": 31
        }
      ],
      "source": [
        "# Let's preview the data again\n",
        "\n",
        "loan_train.head()"
      ]
    },
    {
      "cell_type": "code",
      "execution_count": null,
      "id": "1b1ddb16",
      "metadata": {
        "execution": {
          "iopub.execute_input": "2022-02-25T13:04:46.588241Z",
          "iopub.status.busy": "2022-02-25T13:04:46.587380Z",
          "iopub.status.idle": "2022-02-25T13:04:47.468646Z",
          "shell.execute_reply": "2022-02-25T13:04:47.469098Z",
          "shell.execute_reply.started": "2022-02-25T13:02:53.281632Z"
        },
        "papermill": {
          "duration": 0.94269,
          "end_time": "2022-02-25T13:04:47.469266",
          "exception": false,
          "start_time": "2022-02-25T13:04:46.526576",
          "status": "completed"
        },
        "tags": [],
        "colab": {
          "base_uri": "https://localhost:8080/"
        },
        "id": "1b1ddb16",
        "outputId": "553390ad-3ec8-461c-98c3-c15b4c3554f3"
      },
      "outputs": [
        {
          "output_type": "display_data",
          "data": {
            "text/plain": [
              "<Figure size 1152x1296 with 6 Axes>"
            ],
            "image/png": "[encoded data removed]"
          },
          "metadata": {
            "needs_background": "light"
          }
        }
      ],
      "source": [
        "# Bar charts to get a high level view of categorical data\n",
        "\n",
        "fig, ax = plt.subplots(3, 2, figsize=(16, 18))\n",
        "\n",
        "loan_train.groupby(['Gender'])[['Gender']].count().plot.bar(\n",
        "    color=plt.cm.Paired(np.arange(len(loan_train))), ax=ax[0,0])\n",
        "loan_train.groupby(['Married'])[['Married']].count().plot.bar(\n",
        "    color=plt.cm.Paired(np.arange(len(loan_train))), ax=ax[0,1])\n",
        "loan_train.groupby(['Education'])[['Education']].count().plot.bar(\n",
        "    color=plt.cm.Paired(np.arange(len(loan_train))), ax=ax[1,0])\n",
        "loan_train.groupby(['Self_Employed'])[['Self_Employed']].count().plot.bar(\n",
        "    color=plt.cm.Paired(np.arange(len(loan_train))), ax=ax[1,1])\n",
        "\n",
        "loan_train.groupby(['Loan_Status'])[['Loan_Status']].count().plot.bar(\n",
        "    color=plt.cm.Paired(np.arange(len(loan_train))),ax=ax[2,0])\n",
        "loan_train.groupby(['Property_Area'])[['Loan_Status']].count().plot.bar(\n",
        "    color=plt.cm.Paired(np.arange(len(loan_train))),ax=ax[2,1])\n",
        "\n",
        "plt.show()"
      ]
    },
    {
      "cell_type": "code",
      "execution_count": null,
      "id": "b4f53eb9",
      "metadata": {
        "execution": {
          "iopub.execute_input": "2022-02-25T13:04:47.577735Z",
          "iopub.status.busy": "2022-02-25T13:04:47.577074Z",
          "iopub.status.idle": "2022-02-25T13:04:47.581623Z",
          "shell.execute_reply": "2022-02-25T13:04:47.582032Z",
          "shell.execute_reply.started": "2022-02-25T13:02:54.204651Z"
        },
        "papermill": {
          "duration": 0.060117,
          "end_time": "2022-02-25T13:04:47.582215",
          "exception": false,
          "start_time": "2022-02-25T13:04:47.522098",
          "status": "completed"
        },
        "tags": [],
        "id": "b4f53eb9"
      },
      "outputs": [],
      "source": [
        "# Here, I pass all categorical columns into a list\n",
        "\n",
        "categorical_columns = loan_train_cc.select_dtypes('object').columns.to_list()"
      ]
    },
    {
      "cell_type": "code",
      "execution_count": null,
      "id": "19e34e40",
      "metadata": {
        "execution": {
          "iopub.execute_input": "2022-02-25T13:04:47.692152Z",
          "iopub.status.busy": "2022-02-25T13:04:47.691551Z",
          "iopub.status.idle": "2022-02-25T13:04:47.695795Z",
          "shell.execute_reply": "2022-02-25T13:04:47.696240Z",
          "shell.execute_reply.started": "2022-02-25T13:02:54.211656Z"
        },
        "papermill": {
          "duration": 0.060657,
          "end_time": "2022-02-25T13:04:47.696401",
          "exception": false,
          "start_time": "2022-02-25T13:04:47.635744",
          "status": "completed"
        },
        "tags": [],
        "colab": {
          "base_uri": "https://localhost:8080/"
        },
        "id": "19e34e40",
        "outputId": "379a8ae2-53a6-4a16-c6ab-369d65faa7c2"
      },
      "outputs": [
        {
          "output_type": "execute_result",
          "data": {
            "text/plain": [
              "['Gender',\n",
              " 'Married',\n",
              " 'Dependents',\n",
              " 'Education',\n",
              " 'Self_Employed',\n",
              " 'Property_Area',\n",
              " 'Loan_Status']"
            ]
          },
          "metadata": {},
          "execution_count": 34
        }
      ],
      "source": [
        "# Then, I filter he list to remove Loan_ID column which is not relevant to the analysis\n",
        "categorical_columns[1:]"
      ]
    },
    {
      "cell_type": "code",
      "execution_count": null,
      "id": "fc10dfe2",
      "metadata": {
        "execution": {
          "iopub.execute_input": "2022-02-25T13:04:50.057736Z",
          "iopub.status.busy": "2022-02-25T13:04:50.057015Z",
          "iopub.status.idle": "2022-02-25T13:04:50.060141Z",
          "shell.execute_reply": "2022-02-25T13:04:50.059595Z",
          "shell.execute_reply.started": "2022-02-25T13:02:56.333743Z"
        },
        "papermill": {
          "duration": 0.076115,
          "end_time": "2022-02-25T13:04:50.060277",
          "exception": false,
          "start_time": "2022-02-25T13:04:49.984162",
          "status": "completed"
        },
        "scrolled": true,
        "tags": [],
        "colab": {
          "base_uri": "https://localhost:8080/"
        },
        "id": "fc10dfe2",
        "outputId": "d60dc3b3-ed19-4911-f9de-776af4b8d37b"
      },
      "outputs": [
        {
          "output_type": "execute_result",
          "data": {
            "text/plain": [
              "                   ApplicantIncome  CoapplicantIncome  LoanAmount  \\\n",
              "ApplicantIncome           1.000000          -0.116605    0.565181   \n",
              "CoapplicantIncome        -0.116605           1.000000    0.189218   \n",
              "LoanAmount                0.565181           0.189218    1.000000   \n",
              "Loan_Amount_Term         -0.046531          -0.059383    0.036960   \n",
              "Credit_History           -0.020183           0.009391   -0.018454   \n",
              "\n",
              "                   Loan_Amount_Term  Credit_History  \n",
              "ApplicantIncome           -0.046531       -0.020183  \n",
              "CoapplicantIncome         -0.059383        0.009391  \n",
              "LoanAmount                 0.036960       -0.018454  \n",
              "Loan_Amount_Term           1.000000       -0.022967  \n",
              "Credit_History            -0.022967        1.000000  "
            ],
            "text/html": [
              "\n",
              "  <div id=\"df-db2348bf-a9cc-4b9f-ad00-d10b56f520ae\">\n",
              "    <div class=\"colab-df-container\">\n",
              "      <div>\n",
              "<style scoped>\n",
              "    .dataframe tbody tr th:only-of-type {\n",
              "        vertical-align: middle;\n",
              "    }\n",
              "\n",
              "    .dataframe tbody tr th {\n",
              "        vertical-align: top;\n",
              "    }\n",
              "\n",
              "    .dataframe thead th {\n",
              "        text-align: right;\n",
              "    }\n",
              "</style>\n",
              "<table border=\"1\" class=\"dataframe\">\n",
              "  <thead>\n",
              "    <tr style=\"text-align: right;\">\n",
              "      <th></th>\n",
              "      <th>ApplicantIncome</th>\n",
              "      <th>CoapplicantIncome</th>\n",
              "      <th>LoanAmount</th>\n",
              "      <th>Loan_Amount_Term</th>\n",
              "      <th>Credit_History</th>\n",
              "    </tr>\n",
              "  </thead>\n",
              "  <tbody>\n",
              "    <tr>\n",
              "      <th>ApplicantIncome</th>\n",
              "      <td>1.000000</td>\n",
              "      <td>-0.116605</td>\n",
              "      <td>0.565181</td>\n",
              "      <td>-0.046531</td>\n",
              "      <td>-0.020183</td>\n",
              "    </tr>\n",
              "    <tr>\n",
              "      <th>CoapplicantIncome</th>\n",
              "      <td>-0.116605</td>\n",
              "      <td>1.000000</td>\n",
              "      <td>0.189218</td>\n",
              "      <td>-0.059383</td>\n",
              "      <td>0.009391</td>\n",
              "    </tr>\n",
              "    <tr>\n",
              "      <th>LoanAmount</th>\n",
              "      <td>0.565181</td>\n",
              "      <td>0.189218</td>\n",
              "      <td>1.000000</td>\n",
              "      <td>0.036960</td>\n",
              "      <td>-0.018454</td>\n",
              "    </tr>\n",
              "    <tr>\n",
              "      <th>Loan_Amount_Term</th>\n",
              "      <td>-0.046531</td>\n",
              "      <td>-0.059383</td>\n",
              "      <td>0.036960</td>\n",
              "      <td>1.000000</td>\n",
              "      <td>-0.022967</td>\n",
              "    </tr>\n",
              "    <tr>\n",
              "      <th>Credit_History</th>\n",
              "      <td>-0.020183</td>\n",
              "      <td>0.009391</td>\n",
              "      <td>-0.018454</td>\n",
              "      <td>-0.022967</td>\n",
              "      <td>1.000000</td>\n",
              "    </tr>\n",
              "  </tbody>\n",
              "</table>\n",
              "</div>\n",
              "      <button class=\"colab-df-convert\" onclick=\"convertToInteractive('df-db2348bf-a9cc-4b9f-ad00-d10b56f520ae')\"\n",
              "              title=\"Convert this dataframe to an interactive table.\"\n",
              "              style=\"display:none;\">\n",
              "        \n",
              "  <svg xmlns=\"http://www.w3.org/2000/svg\" height=\"24px\"viewBox=\"0 0 24 24\"\n",
              "       width=\"24px\">\n",
              "    <path d=\"M0 0h24v24H0V0z\" fill=\"none\"/>\n",
              "    <path d=\"M18.56 5.44l.94 2.06.94-2.06 2.06-.94-2.06-.94-.94-2.06-.94 2.06-2.06.94zm-11 1L8.5 8.5l.94-2.06 2.06-.94-2.06-.94L8.5 2.5l-.94 2.06-2.06.94zm10 10l.94 2.06.94-2.06 2.06-.94-2.06-.94-.94-2.06-.94 2.06-2.06.94z\"/><path d=\"M17.41 7.96l-1.37-1.37c-.4-.4-.92-.59-1.43-.59-.52 0-1.04.2-1.43.59L10.3 9.45l-7.72 7.72c-.78.78-.78 2.05 0 2.83L4 21.41c.39.39.9.59 1.41.59.51 0 1.02-.2 1.41-.59l7.78-7.78 2.81-2.81c.8-.78.8-2.07 0-2.86zM5.41 20L4 18.59l7.72-7.72 1.47 1.35L5.41 20z\"/>\n",
              "  </svg>\n",
              "      </button>\n",
              "      \n",
              "  <style>\n",
              "    .colab-df-container {\n",
              "      display:flex;\n",
              "      flex-wrap:wrap;\n",
              "      gap: 12px;\n",
              "    }\n",
              "\n",
              "    .colab-df-convert {\n",
              "      background-color: #E8F0FE;\n",
              "      border: none;\n",
              "      border-radius: 50%;\n",
              "      cursor: pointer;\n",
              "      display: none;\n",
              "      fill: #1967D2;\n",
              "      height: 32px;\n",
              "      padding: 0 0 0 0;\n",
              "      width: 32px;\n",
              "    }\n",
              "\n",
              "    .colab-df-convert:hover {\n",
              "      background-color: #E2EBFA;\n",
              "      box-shadow: 0px 1px 2px rgba(60, 64, 67, 0.3), 0px 1px 3px 1px rgba(60, 64, 67, 0.15);\n",
              "      fill: #174EA6;\n",
              "    }\n",
              "\n",
              "    [theme=dark] .colab-df-convert {\n",
              "      background-color: #3B4455;\n",
              "      fill: #D2E3FC;\n",
              "    }\n",
              "\n",
              "    [theme=dark] .colab-df-convert:hover {\n",
              "      background-color: #434B5C;\n",
              "      box-shadow: 0px 1px 3px 1px rgba(0, 0, 0, 0.15);\n",
              "      filter: drop-shadow(0px 1px 2px rgba(0, 0, 0, 0.3));\n",
              "      fill: #FFFFFF;\n",
              "    }\n",
              "  </style>\n",
              "\n",
              "      <script>\n",
              "        const buttonEl =\n",
              "          document.querySelector('#df-db2348bf-a9cc-4b9f-ad00-d10b56f520ae button.colab-df-convert');\n",
              "        buttonEl.style.display =\n",
              "          google.colab.kernel.accessAllowed ? 'block' : 'none';\n",
              "\n",
              "        async function convertToInteractive(key) {\n",
              "          const element = document.querySelector('#df-db2348bf-a9cc-4b9f-ad00-d10b56f520ae');\n",
              "          const dataTable =\n",
              "            await google.colab.kernel.invokeFunction('convertToInteractive',\n",
              "                                                     [key], {});\n",
              "          if (!dataTable) return;\n",
              "\n",
              "          const docLinkHtml = 'Like what you see? Visit the ' +\n",
              "            '<a target=\"_blank\" href=https://colab.research.google.com/notebooks/data_table.ipynb>data table notebook</a>'\n",
              "            + ' to learn more about interactive tables.';\n",
              "          element.innerHTML = '';\n",
              "          dataTable['output_type'] = 'display_data';\n",
              "          await google.colab.output.renderOutput(dataTable, element);\n",
              "          const docLink = document.createElement('div');\n",
              "          docLink.innerHTML = docLinkHtml;\n",
              "          element.appendChild(docLink);\n",
              "        }\n",
              "      </script>\n",
              "    </div>\n",
              "  </div>\n",
              "  "
            ]
          },
          "metadata": {},
          "execution_count": 35
        }
      ],
      "source": [
        "#Correlation explains how one or more variables are related to each other.\n",
        "loan_train.corr()"
      ]
    },
    {
      "cell_type": "markdown",
      "id": "40080497",
      "metadata": {
        "papermill": {
          "duration": 0.067054,
          "end_time": "2022-02-25T13:04:50.747426",
          "exception": false,
          "start_time": "2022-02-25T13:04:50.680372",
          "status": "completed"
        },
        "tags": [],
        "id": "40080497"
      },
      "source": [
        "# Data Pre-processing for Model Building"
      ]
    },
    {
      "cell_type": "markdown",
      "id": "336c857b",
      "metadata": {
        "papermill": {
          "duration": 0.065263,
          "end_time": "2022-02-25T13:04:50.876287",
          "exception": false,
          "start_time": "2022-02-25T13:04:50.811024",
          "status": "completed"
        },
        "tags": [],
        "id": "336c857b"
      },
      "source": [
        "\n",
        "* Note that a lot of the data preparation has been done (like dealing with missing values)\n",
        "* Now, the next thing to do would be to encode categorical data (change categorical data to numeric data). For this, I will use the scikit-Learn LabelEncoder.\n",
        "\n",
        "-->Label Encoder:\n",
        "Label Encoding in Python can be achieved using Sklearn Library. Sklearn provides a very efficient tool for encoding the levels of categorical features into numeric values. LabelEncoder encode labels with a value between 0 and n_classes-1 where n is the number of distinct labels. If a label repeats it assigns the same value to as assigned earlier."
      ]
    },
    {
      "cell_type": "code",
      "execution_count": null,
      "id": "7ba11936",
      "metadata": {
        "execution": {
          "iopub.execute_input": "2022-02-25T13:04:51.026673Z",
          "iopub.status.busy": "2022-02-25T13:04:51.026022Z",
          "iopub.status.idle": "2022-02-25T13:04:51.029972Z",
          "shell.execute_reply": "2022-02-25T13:04:51.029385Z",
          "shell.execute_reply.started": "2022-02-25T13:02:56.628353Z"
        },
        "papermill": {
          "duration": 0.087138,
          "end_time": "2022-02-25T13:04:51.030106",
          "exception": false,
          "start_time": "2022-02-25T13:04:50.942968",
          "status": "completed"
        },
        "tags": [],
        "colab": {
          "base_uri": "https://localhost:8080/"
        },
        "id": "7ba11936",
        "outputId": "f319e509-8ec8-4eda-ceb6-1ac5559c62c6"
      },
      "outputs": [
        {
          "output_type": "execute_result",
          "data": {
            "text/plain": [
              "    Loan_ID Gender Married Dependents     Education Self_Employed  \\\n",
              "0  LP001002   Male      No          0      Graduate            No   \n",
              "1  LP001003   Male     Yes          1      Graduate            No   \n",
              "2  LP001005   Male     Yes          0      Graduate           Yes   \n",
              "3  LP001006   Male     Yes          0  Not Graduate            No   \n",
              "4  LP001008   Male      No          0      Graduate            No   \n",
              "\n",
              "   ApplicantIncome  CoapplicantIncome  LoanAmount  Loan_Amount_Term  \\\n",
              "0             5849                0.0       128.0             360.0   \n",
              "1             4583             1508.0       128.0             360.0   \n",
              "2             3000                0.0        66.0             360.0   \n",
              "3             2583             2358.0       120.0             360.0   \n",
              "4             6000                0.0       141.0             360.0   \n",
              "\n",
              "   Credit_History Property_Area Loan_Status  \n",
              "0             1.0         Urban           Y  \n",
              "1             1.0         Rural           N  \n",
              "2             1.0         Urban           Y  \n",
              "3             1.0         Urban           Y  \n",
              "4             1.0         Urban           Y  "
            ],
            "text/html": [
              "\n",
              "  <div id=\"df-33ea2cc1-a1c4-4135-96a7-515561d75359\">\n",
              "    <div class=\"colab-df-container\">\n",
              "      <div>\n",
              "<style scoped>\n",
              "    .dataframe tbody tr th:only-of-type {\n",
              "        vertical-align: middle;\n",
              "    }\n",
              "\n",
              "    .dataframe tbody tr th {\n",
              "        vertical-align: top;\n",
              "    }\n",
              "\n",
              "    .dataframe thead th {\n",
              "        text-align: right;\n",
              "    }\n",
              "</style>\n",
              "<table border=\"1\" class=\"dataframe\">\n",
              "  <thead>\n",
              "    <tr style=\"text-align: right;\">\n",
              "      <th></th>\n",
              "      <th>Loan_ID</th>\n",
              "      <th>Gender</th>\n",
              "      <th>Married</th>\n",
              "      <th>Dependents</th>\n",
              "      <th>Education</th>\n",
              "      <th>Self_Employed</th>\n",
              "      <th>ApplicantIncome</th>\n",
              "      <th>CoapplicantIncome</th>\n",
              "      <th>LoanAmount</th>\n",
              "      <th>Loan_Amount_Term</th>\n",
              "      <th>Credit_History</th>\n",
              "      <th>Property_Area</th>\n",
              "      <th>Loan_Status</th>\n",
              "    </tr>\n",
              "  </thead>\n",
              "  <tbody>\n",
              "    <tr>\n",
              "      <th>0</th>\n",
              "      <td>LP001002</td>\n",
              "      <td>Male</td>\n",
              "      <td>No</td>\n",
              "      <td>0</td>\n",
              "      <td>Graduate</td>\n",
              "      <td>No</td>\n",
              "      <td>5849</td>\n",
              "      <td>0.0</td>\n",
              "      <td>128.0</td>\n",
              "      <td>360.0</td>\n",
              "      <td>1.0</td>\n",
              "      <td>Urban</td>\n",
              "      <td>Y</td>\n",
              "    </tr>\n",
              "    <tr>\n",
              "      <th>1</th>\n",
              "      <td>LP001003</td>\n",
              "      <td>Male</td>\n",
              "      <td>Yes</td>\n",
              "      <td>1</td>\n",
              "      <td>Graduate</td>\n",
              "      <td>No</td>\n",
              "      <td>4583</td>\n",
              "      <td>1508.0</td>\n",
              "      <td>128.0</td>\n",
              "      <td>360.0</td>\n",
              "      <td>1.0</td>\n",
              "      <td>Rural</td>\n",
              "      <td>N</td>\n",
              "    </tr>\n",
              "    <tr>\n",
              "      <th>2</th>\n",
              "      <td>LP001005</td>\n",
              "      <td>Male</td>\n",
              "      <td>Yes</td>\n",
              "      <td>0</td>\n",
              "      <td>Graduate</td>\n",
              "      <td>Yes</td>\n",
              "      <td>3000</td>\n",
              "      <td>0.0</td>\n",
              "      <td>66.0</td>\n",
              "      <td>360.0</td>\n",
              "      <td>1.0</td>\n",
              "      <td>Urban</td>\n",
              "      <td>Y</td>\n",
              "    </tr>\n",
              "    <tr>\n",
              "      <th>3</th>\n",
              "      <td>LP001006</td>\n",
              "      <td>Male</td>\n",
              "      <td>Yes</td>\n",
              "      <td>0</td>\n",
              "      <td>Not Graduate</td>\n",
              "      <td>No</td>\n",
              "      <td>2583</td>\n",
              "      <td>2358.0</td>\n",
              "      <td>120.0</td>\n",
              "      <td>360.0</td>\n",
              "      <td>1.0</td>\n",
              "      <td>Urban</td>\n",
              "      <td>Y</td>\n",
              "    </tr>\n",
              "    <tr>\n",
              "      <th>4</th>\n",
              "      <td>LP001008</td>\n",
              "      <td>Male</td>\n",
              "      <td>No</td>\n",
              "      <td>0</td>\n",
              "      <td>Graduate</td>\n",
              "      <td>No</td>\n",
              "      <td>6000</td>\n",
              "      <td>0.0</td>\n",
              "      <td>141.0</td>\n",
              "      <td>360.0</td>\n",
              "      <td>1.0</td>\n",
              "      <td>Urban</td>\n",
              "      <td>Y</td>\n",
              "    </tr>\n",
              "  </tbody>\n",
              "</table>\n",
              "</div>\n",
              "      <button class=\"colab-df-convert\" onclick=\"convertToInteractive('df-33ea2cc1-a1c4-4135-96a7-515561d75359')\"\n",
              "              title=\"Convert this dataframe to an interactive table.\"\n",
              "              style=\"display:none;\">\n",
              "        \n",
              "  <svg xmlns=\"http://www.w3.org/2000/svg\" height=\"24px\"viewBox=\"0 0 24 24\"\n",
              "       width=\"24px\">\n",
              "    <path d=\"M0 0h24v24H0V0z\" fill=\"none\"/>\n",
              "    <path d=\"M18.56 5.44l.94 2.06.94-2.06 2.06-.94-2.06-.94-.94-2.06-.94 2.06-2.06.94zm-11 1L8.5 8.5l.94-2.06 2.06-.94-2.06-.94L8.5 2.5l-.94 2.06-2.06.94zm10 10l.94 2.06.94-2.06 2.06-.94-2.06-.94-.94-2.06-.94 2.06-2.06.94z\"/><path d=\"M17.41 7.96l-1.37-1.37c-.4-.4-.92-.59-1.43-.59-.52 0-1.04.2-1.43.59L10.3 9.45l-7.72 7.72c-.78.78-.78 2.05 0 2.83L4 21.41c.39.39.9.59 1.41.59.51 0 1.02-.2 1.41-.59l7.78-7.78 2.81-2.81c.8-.78.8-2.07 0-2.86zM5.41 20L4 18.59l7.72-7.72 1.47 1.35L5.41 20z\"/>\n",
              "  </svg>\n",
              "      </button>\n",
              "      \n",
              "  <style>\n",
              "    .colab-df-container {\n",
              "      display:flex;\n",
              "      flex-wrap:wrap;\n",
              "      gap: 12px;\n",
              "    }\n",
              "\n",
              "    .colab-df-convert {\n",
              "      background-color: #E8F0FE;\n",
              "      border: none;\n",
              "      border-radius: 50%;\n",
              "      cursor: pointer;\n",
              "      display: none;\n",
              "      fill: #1967D2;\n",
              "      height: 32px;\n",
              "      padding: 0 0 0 0;\n",
              "      width: 32px;\n",
              "    }\n",
              "\n",
              "    .colab-df-convert:hover {\n",
              "      background-color: #E2EBFA;\n",
              "      box-shadow: 0px 1px 2px rgba(60, 64, 67, 0.3), 0px 1px 3px 1px rgba(60, 64, 67, 0.15);\n",
              "      fill: #174EA6;\n",
              "    }\n",
              "\n",
              "    [theme=dark] .colab-df-convert {\n",
              "      background-color: #3B4455;\n",
              "      fill: #D2E3FC;\n",
              "    }\n",
              "\n",
              "    [theme=dark] .colab-df-convert:hover {\n",
              "      background-color: #434B5C;\n",
              "      box-shadow: 0px 1px 3px 1px rgba(0, 0, 0, 0.15);\n",
              "      filter: drop-shadow(0px 1px 2px rgba(0, 0, 0, 0.3));\n",
              "      fill: #FFFFFF;\n",
              "    }\n",
              "  </style>\n",
              "\n",
              "      <script>\n",
              "        const buttonEl =\n",
              "          document.querySelector('#df-33ea2cc1-a1c4-4135-96a7-515561d75359 button.colab-df-convert');\n",
              "        buttonEl.style.display =\n",
              "          google.colab.kernel.accessAllowed ? 'block' : 'none';\n",
              "\n",
              "        async function convertToInteractive(key) {\n",
              "          const element = document.querySelector('#df-33ea2cc1-a1c4-4135-96a7-515561d75359');\n",
              "          const dataTable =\n",
              "            await google.colab.kernel.invokeFunction('convertToInteractive',\n",
              "                                                     [key], {});\n",
              "          if (!dataTable) return;\n",
              "\n",
              "          const docLinkHtml = 'Like what you see? Visit the ' +\n",
              "            '<a target=\"_blank\" href=https://colab.research.google.com/notebooks/data_table.ipynb>data table notebook</a>'\n",
              "            + ' to learn more about interactive tables.';\n",
              "          element.innerHTML = '';\n",
              "          dataTable['output_type'] = 'display_data';\n",
              "          await google.colab.output.renderOutput(dataTable, element);\n",
              "          const docLink = document.createElement('div');\n",
              "          docLink.innerHTML = docLinkHtml;\n",
              "          element.appendChild(docLink);\n",
              "        }\n",
              "      </script>\n",
              "    </div>\n",
              "  </div>\n",
              "  "
            ]
          },
          "metadata": {},
          "execution_count": 36
        }
      ],
      "source": [
        "# Let's take another preview of the data\n",
        "loan_train.head()"
      ]
    },
    {
      "cell_type": "code",
      "execution_count": null,
      "id": "8373f1c1",
      "metadata": {
        "execution": {
          "iopub.execute_input": "2022-02-25T13:04:51.165020Z",
          "iopub.status.busy": "2022-02-25T13:04:51.164358Z",
          "iopub.status.idle": "2022-02-25T13:04:51.195183Z",
          "shell.execute_reply": "2022-02-25T13:04:51.195789Z",
          "shell.execute_reply.started": "2022-02-25T13:02:56.647857Z"
        },
        "papermill": {
          "duration": 0.10162,
          "end_time": "2022-02-25T13:04:51.195961",
          "exception": false,
          "start_time": "2022-02-25T13:04:51.094341",
          "status": "completed"
        },
        "tags": [],
        "colab": {
          "base_uri": "https://localhost:8080/"
        },
        "id": "8373f1c1",
        "outputId": "3f7043ab-f53a-442b-b914-c3f2c22adb38"
      },
      "outputs": [
        {
          "output_type": "stream",
          "name": "stdout",
          "text": [
            "<class 'pandas.core.frame.DataFrame'>\n",
            "RangeIndex: 614 entries, 0 to 613\n",
            "Data columns (total 13 columns):\n",
            " #   Column             Non-Null Count  Dtype  \n",
            "---  ------             --------------  -----  \n",
            " 0   Loan_ID            614 non-null    int64  \n",
            " 1   Gender             614 non-null    int64  \n",
            " 2   Married            614 non-null    int64  \n",
            " 3   Dependents         614 non-null    int64  \n",
            " 4   Education          614 non-null    int64  \n",
            " 5   Self_Employed      614 non-null    int64  \n",
            " 6   ApplicantIncome    614 non-null    int64  \n",
            " 7   CoapplicantIncome  614 non-null    float64\n",
            " 8   LoanAmount         614 non-null    float64\n",
            " 9   Loan_Amount_Term   614 non-null    float64\n",
            " 10  Credit_History     614 non-null    float64\n",
            " 11  Property_Area      614 non-null    int64  \n",
            " 12  Loan_Status        614 non-null    int64  \n",
            "dtypes: float64(4), int64(9)\n",
            "memory usage: 62.5 KB\n",
            "None\n"
          ]
        }
      ],
      "source": [
        "#first identify all categorical columns & pass into a variable\n",
        "objectlist_train = loan_train.select_dtypes(include = \"object\").columns\n",
        "\n",
        "\n",
        "# Then Label Encoding for object to numeric conversion\n",
        "\n",
        "from sklearn.preprocessing import LabelEncoder\n",
        "le = LabelEncoder()\n",
        "\n",
        "for feature in objectlist_train:\n",
        "    loan_train[feature] = le.fit_transform(loan_train[feature].astype(str))\n",
        "\n",
        "print (loan_train.info())"
      ]
    },
    {
      "cell_type": "code",
      "execution_count": null,
      "id": "5d70ad2f",
      "metadata": {
        "execution": {
          "iopub.execute_input": "2022-02-25T13:04:51.325644Z",
          "iopub.status.busy": "2022-02-25T13:04:51.325039Z",
          "iopub.status.idle": "2022-02-25T13:04:51.341752Z",
          "shell.execute_reply": "2022-02-25T13:04:51.342572Z",
          "shell.execute_reply.started": "2022-02-25T13:02:56.682043Z"
        },
        "papermill": {
          "duration": 0.083723,
          "end_time": "2022-02-25T13:04:51.342795",
          "exception": false,
          "start_time": "2022-02-25T13:04:51.259072",
          "status": "completed"
        },
        "tags": [],
        "colab": {
          "base_uri": "https://localhost:8080/"
        },
        "id": "5d70ad2f",
        "outputId": "704622ed-8b1f-4769-e807-0e5c9b53033e"
      },
      "outputs": [
        {
          "output_type": "stream",
          "name": "stdout",
          "text": [
            "<class 'pandas.core.frame.DataFrame'>\n",
            "RangeIndex: 367 entries, 0 to 366\n",
            "Data columns (total 12 columns):\n",
            " #   Column             Non-Null Count  Dtype  \n",
            "---  ------             --------------  -----  \n",
            " 0   Loan_ID            367 non-null    int64  \n",
            " 1   Gender             367 non-null    int64  \n",
            " 2   Married            367 non-null    int64  \n",
            " 3   Dependents         367 non-null    int64  \n",
            " 4   Education          367 non-null    int64  \n",
            " 5   Self_Employed      367 non-null    int64  \n",
            " 6   ApplicantIncome    367 non-null    int64  \n",
            " 7   CoapplicantIncome  367 non-null    int64  \n",
            " 8   LoanAmount         367 non-null    float64\n",
            " 9   Loan_Amount_Term   367 non-null    float64\n",
            " 10  Credit_History     367 non-null    float64\n",
            " 11  Property_Area      367 non-null    int64  \n",
            "dtypes: float64(3), int64(9)\n",
            "memory usage: 34.5 KB\n",
            "None\n"
          ]
        }
      ],
      "source": [
        "# Now, repeat the same process to encode the test data\n",
        "\n",
        "objectlist_test = loan_test.select_dtypes(include='object').columns\n",
        "\n",
        "for feature in objectlist_test:\n",
        "    loan_test[feature] = le.fit_transform(loan_test[feature].astype(str))\n",
        "\n",
        "print (loan_test.info())"
      ]
    },
    {
      "cell_type": "markdown",
      "id": "e15ebbfc",
      "metadata": {
        "papermill": {
          "duration": 0.066727,
          "end_time": "2022-02-25T13:04:52.482923",
          "exception": false,
          "start_time": "2022-02-25T13:04:52.416196",
          "status": "completed"
        },
        "tags": [],
        "id": "e15ebbfc"
      },
      "source": [
        "# Machine Learning Model Development"
      ]
    },
    {
      "cell_type": "code",
      "execution_count": null,
      "id": "3958e9f7",
      "metadata": {
        "execution": {
          "iopub.execute_input": "2022-02-25T13:04:52.632363Z",
          "iopub.status.busy": "2022-02-25T13:04:52.629829Z",
          "iopub.status.idle": "2022-02-25T13:04:52.635927Z",
          "shell.execute_reply": "2022-02-25T13:04:52.635377Z",
          "shell.execute_reply.started": "2022-02-25T13:02:57.556491Z"
        },
        "papermill": {
          "duration": 0.082259,
          "end_time": "2022-02-25T13:04:52.636072",
          "exception": false,
          "start_time": "2022-02-25T13:04:52.553813",
          "status": "completed"
        },
        "tags": [],
        "id": "3958e9f7"
      },
      "outputs": [],
      "source": [
        "x = loan_train.iloc[:,1:].drop('Loan_Status', axis=1) # drop loan_status column because that is what we are predicting\n",
        "y = loan_train['Loan_Status']\n",
        "train_x, test_x, train_y, test_y = train_test_split(x, y, test_size=0.30, random_state=0)"
      ]
    },
    {
      "cell_type": "markdown",
      "id": "5af693c3",
      "metadata": {
        "papermill": {
          "duration": 0.066075,
          "end_time": "2022-02-25T13:04:52.770251",
          "exception": false,
          "start_time": "2022-02-25T13:04:52.704176",
          "status": "completed"
        },
        "tags": [],
        "id": "5af693c3"
      },
      "source": [
        "#### Decision Tree Classifier Model"
      ]
    },
    {
      "cell_type": "code",
      "execution_count": null,
      "id": "81e3b7b2",
      "metadata": {
        "execution": {
          "iopub.execute_input": "2022-02-25T13:04:52.913206Z",
          "iopub.status.busy": "2022-02-25T13:04:52.912504Z",
          "iopub.status.idle": "2022-02-25T13:04:52.926384Z",
          "shell.execute_reply": "2022-02-25T13:04:52.925851Z",
          "shell.execute_reply.started": "2022-02-25T13:02:57.568343Z"
        },
        "papermill": {
          "duration": 0.088708,
          "end_time": "2022-02-25T13:04:52.926553",
          "exception": false,
          "start_time": "2022-02-25T13:04:52.837845",
          "status": "completed"
        },
        "tags": [],
        "colab": {
          "base_uri": "https://localhost:8080/"
        },
        "id": "81e3b7b2",
        "outputId": "2fbf7565-201c-47bb-9d1c-7bf1d4c9d2ff"
      },
      "outputs": [
        {
          "output_type": "stream",
          "name": "stdout",
          "text": [
            "Accuracy: 0.7675675675675676\n",
            "[[ 28  23]\n",
            " [ 20 114]]\n"
          ]
        }
      ],
      "source": [
        "df_model = DecisionTreeClassifier()\n",
        "df_model.fit(train_x, train_y)\n",
        "predict_y = df_model.predict(test_x)\n",
        "df_model.score(test_x, test_y)\n",
        "print(\"Accuracy:\", accuracy_score(predict_y, test_y))\n",
        "print(confusion_matrix(test_y, predict_y))"
      ]
    },
    {
      "cell_type": "markdown",
      "id": "53972206",
      "metadata": {
        "papermill": {
          "duration": 0.067045,
          "end_time": "2022-02-25T13:04:53.060770",
          "exception": false,
          "start_time": "2022-02-25T13:04:52.993725",
          "status": "completed"
        },
        "tags": [],
        "id": "53972206"
      },
      "source": [
        "#### Random Forest Classifier"
      ]
    },
    {
      "cell_type": "code",
      "execution_count": null,
      "id": "bf0b2eb0",
      "metadata": {
        "execution": {
          "iopub.execute_input": "2022-02-25T13:04:53.244342Z",
          "iopub.status.busy": "2022-02-25T13:04:53.232593Z",
          "iopub.status.idle": "2022-02-25T13:04:53.387516Z",
          "shell.execute_reply": "2022-02-25T13:04:53.386979Z",
          "shell.execute_reply.started": "2022-02-25T13:02:57.593838Z"
        },
        "papermill": {
          "duration": 0.260295,
          "end_time": "2022-02-25T13:04:53.387658",
          "exception": false,
          "start_time": "2022-02-25T13:04:53.127363",
          "status": "completed"
        },
        "scrolled": true,
        "tags": [],
        "colab": {
          "base_uri": "https://localhost:8080/"
        },
        "id": "bf0b2eb0",
        "outputId": "76745cad-4b8b-4826-e047-6cd79c45d83b"
      },
      "outputs": [
        {
          "output_type": "stream",
          "name": "stdout",
          "text": [
            "Accuracy: 0.8\n",
            "[[ 24  27]\n",
            " [ 10 124]]\n"
          ]
        }
      ],
      "source": [
        "rf_model = RandomForestClassifier(n_estimators=100)\n",
        "rf_model.fit(train_x, train_y)\n",
        "predict_y_2 = rf_model.predict(test_x)\n",
        "rf_model.score(test_x, test_y)\n",
        "print(\"Accuracy:\", accuracy_score(predict_y_2, test_y))\n",
        "print(confusion_matrix(test_y, predict_y_2))"
      ]
    },
    {
      "cell_type": "markdown",
      "id": "0d23793f",
      "metadata": {
        "papermill": {
          "duration": 0.068624,
          "end_time": "2022-02-25T13:04:53.842233",
          "exception": false,
          "start_time": "2022-02-25T13:04:53.773609",
          "status": "completed"
        },
        "tags": [],
        "id": "0d23793f"
      },
      "source": [
        "#Thank you\n",
        "### Work presented by **Youssef khemiri**"
      ]
    }
  ],
  "metadata": {
    "kernelspec": {
      "display_name": "Python 3",
      "language": "python",
      "name": "python3"
    },
    "language_info": {
      "codemirror_mode": {
        "name": "ipython",
        "version": 3
      },
      "file_extension": ".py",
      "mimetype": "text/x-python",
      "name": "python",
      "nbconvert_exporter": "python",
      "pygments_lexer": "ipython3",
      "version": "3.7.12"
    },
    "papermill": {
      "default_parameters": {},
      "duration": 23.552873,
      "end_time": "2022-02-25T13:04:54.866022",
      "environment_variables": {},
      "exception": null,
      "input_path": "__notebook__.ipynb",
      "output_path": "__notebook__.ipynb",
      "parameters": {},
      "start_time": "2022-02-25T13:04:31.313149",
      "version": "2.3.3"
    },
    "colab": {
      "provenance": [],
      "include_colab_link": true
    }
  },
  "nbformat": 4,
  "nbformat_minor": 5
}